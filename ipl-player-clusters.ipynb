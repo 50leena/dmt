{
 "cells": [
  {
   "cell_type": "markdown",
   "metadata": {
    "papermill": {
     "duration": 0.038295,
     "end_time": "2022-11-06T12:48:17.184320",
     "exception": false,
     "start_time": "2022-11-06T12:48:17.146025",
     "status": "completed"
    },
    "tags": []
   },
   "source": [
    "<div>\n",
    "<img src=\"https://www.headlinesoftoday.com/wp-content/uploads/2020/03/Indian-Premier-League-IPL-2020-Full-ScheduleTime-Table-and-Venue-and-Fixtures-e1588313204876.jpg\" width=\"550\"/>\n",
    "</div>\n",
    "\n",
    "<div class=\"alert alert-block alert-info\">  \n",
    "<h1><strong><center>🏏 Indian Premier League</center></strong></h1>\n",
    "    <p>The Indian Premier League is a professional Twenty20 cricket league in India contested during March or April and May of every year by eight teams representing eight different cities in India.\n",
    "    </p>\n",
    "</div>"
   ]
  },
  {
   "cell_type": "markdown",
   "metadata": {
    "id": "kS98F-fn2sJt",
    "papermill": {
     "duration": 0.034866,
     "end_time": "2022-11-06T12:48:17.253208",
     "exception": false,
     "start_time": "2022-11-06T12:48:17.218342",
     "status": "completed"
    },
    "tags": []
   },
   "source": [
    "> Aim: To create clusters of players based on their strengths in order to show a well-rounded cricket team of all time.\n"
   ]
  },
  {
   "cell_type": "markdown",
   "metadata": {
    "id": "EyK62RvU2sJv",
    "papermill": {
     "duration": 0.035402,
     "end_time": "2022-11-06T12:48:17.323887",
     "exception": false,
     "start_time": "2022-11-06T12:48:17.288485",
     "status": "completed"
    },
    "tags": []
   },
   "source": [
    "### Data preprocessing"
   ]
  },
  {
   "cell_type": "code",
   "execution_count": 1,
   "metadata": {
    "execution": {
     "iopub.execute_input": "2022-11-06T12:48:17.402262Z",
     "iopub.status.busy": "2022-11-06T12:48:17.401369Z",
     "iopub.status.idle": "2022-11-06T12:48:19.410045Z",
     "shell.execute_reply": "2022-11-06T12:48:19.409430Z"
    },
    "executionInfo": {
     "elapsed": 1845,
     "status": "ok",
     "timestamp": 1596356835554,
     "user": {
      "displayName": "RUCHI BHATIA",
      "photoUrl": "",
      "userId": "04469733066996764193"
     },
     "user_tz": -330
    },
    "id": "z8OFnKMv2sJw",
    "papermill": {
     "duration": 2.051536,
     "end_time": "2022-11-06T12:48:19.410180",
     "exception": false,
     "start_time": "2022-11-06T12:48:17.358644",
     "status": "completed"
    },
    "tags": []
   },
   "outputs": [],
   "source": [
    "import pandas as pd\n",
    "import numpy as np\n",
    "import seaborn as sns\n",
    "import plotly.express as px\n",
    "import matplotlib.pyplot as plt\n",
    "%matplotlib inline\n",
    "\n",
    "from sklearn import metrics\n",
    "from sklearn.cluster import KMeans\n",
    "from scipy.spatial.distance import cdist \n",
    "from colorama import Fore, Back, Style\n",
    "y_ = Fore.YELLOW\n",
    "r_ = Fore.RED\n",
    "g_ = Fore.GREEN\n",
    "b_ = Fore.BLUE\n",
    "m_ = Fore.MAGENTA"
   ]
  },
  {
   "cell_type": "code",
   "execution_count": 2,
   "metadata": {
    "execution": {
     "iopub.execute_input": "2022-11-06T12:48:19.486063Z",
     "iopub.status.busy": "2022-11-06T12:48:19.485388Z",
     "iopub.status.idle": "2022-11-06T12:48:19.487150Z",
     "shell.execute_reply": "2022-11-06T12:48:19.487657Z"
    },
    "papermill": {
     "duration": 0.042609,
     "end_time": "2022-11-06T12:48:19.487817",
     "exception": false,
     "start_time": "2022-11-06T12:48:19.445208",
     "status": "completed"
    },
    "tags": []
   },
   "outputs": [],
   "source": [
    "custom_colors = [\"#023e8a\", \"#0096c7\",\"#90e0ef\",\"#ff5400\",\"#ffbd00\"]\n",
    "customPalette = sns.set_palette(sns.color_palette(custom_colors))"
   ]
  },
  {
   "cell_type": "code",
   "execution_count": 3,
   "metadata": {
    "execution": {
     "iopub.execute_input": "2022-11-06T12:48:19.560808Z",
     "iopub.status.busy": "2022-11-06T12:48:19.560114Z",
     "iopub.status.idle": "2022-11-06T12:48:19.652972Z",
     "shell.execute_reply": "2022-11-06T12:48:19.653727Z"
    },
    "papermill": {
     "duration": 0.131729,
     "end_time": "2022-11-06T12:48:19.653960",
     "exception": false,
     "start_time": "2022-11-06T12:48:19.522231",
     "status": "completed"
    },
    "tags": []
   },
   "outputs": [
    {
     "data": {
      "image/png": "[encoded data removed]",
      "text/plain": [
       "<Figure size 360x72 with 1 Axes>"
      ]
     },
     "metadata": {
      "needs_background": "light"
     },
     "output_type": "display_data"
    }
   ],
   "source": [
    "sns.palplot(sns.color_palette(custom_colors),size=1)"
   ]
  },
  {
   "cell_type": "code",
   "execution_count": 4,
   "metadata": {
    "execution": {
     "iopub.execute_input": "2022-11-06T12:48:19.735264Z",
     "iopub.status.busy": "2022-11-06T12:48:19.734556Z",
     "iopub.status.idle": "2022-11-06T12:48:19.736296Z",
     "shell.execute_reply": "2022-11-06T12:48:19.736938Z"
    },
    "papermill": {
     "duration": 0.046108,
     "end_time": "2022-11-06T12:48:19.737108",
     "exception": false,
     "start_time": "2022-11-06T12:48:19.691000",
     "status": "completed"
    },
    "tags": []
   },
   "outputs": [],
   "source": [
    "sns.set_context(\"poster\")"
   ]
  },
  {
   "cell_type": "code",
   "execution_count": 5,
   "metadata": {
    "execution": {
     "iopub.execute_input": "2022-11-06T12:48:19.812987Z",
     "iopub.status.busy": "2022-11-06T12:48:19.812346Z",
     "iopub.status.idle": "2022-11-06T12:48:19.851388Z",
     "shell.execute_reply": "2022-11-06T12:48:19.851964Z"
    },
    "papermill": {
     "duration": 0.079279,
     "end_time": "2022-11-06T12:48:19.852116",
     "exception": false,
     "start_time": "2022-11-06T12:48:19.772837",
     "status": "completed"
    },
    "tags": []
   },
   "outputs": [
    {
     "data": {
      "text/html": [
       "<div>\n",
       "<style scoped>\n",
       "    .dataframe tbody tr th:only-of-type {\n",
       "        vertical-align: middle;\n",
       "    }\n",
       "\n",
       "    .dataframe tbody tr th {\n",
       "        vertical-align: top;\n",
       "    }\n",
       "\n",
       "    .dataframe thead th {\n",
       "        text-align: right;\n",
       "    }\n",
       "</style>\n",
       "<table border=\"1\" class=\"dataframe\">\n",
       "  <thead>\n",
       "    <tr style=\"text-align: right;\">\n",
       "      <th></th>\n",
       "      <th>Player_Id</th>\n",
       "      <th>Player_Name</th>\n",
       "      <th>DOB</th>\n",
       "      <th>Batting_Hand</th>\n",
       "      <th>Bowling_Skill</th>\n",
       "      <th>Country</th>\n",
       "    </tr>\n",
       "  </thead>\n",
       "  <tbody>\n",
       "    <tr>\n",
       "      <th>0</th>\n",
       "      <td>1</td>\n",
       "      <td>SC Ganguly</td>\n",
       "      <td>8-Jul-72</td>\n",
       "      <td>Left_Hand</td>\n",
       "      <td>Right-arm medium</td>\n",
       "      <td>India</td>\n",
       "    </tr>\n",
       "    <tr>\n",
       "      <th>1</th>\n",
       "      <td>2</td>\n",
       "      <td>BB McCullum</td>\n",
       "      <td>27-Sep-81</td>\n",
       "      <td>Right_Hand</td>\n",
       "      <td>Right-arm medium</td>\n",
       "      <td>New Zealand</td>\n",
       "    </tr>\n",
       "    <tr>\n",
       "      <th>2</th>\n",
       "      <td>3</td>\n",
       "      <td>RT Ponting</td>\n",
       "      <td>19-Dec-74</td>\n",
       "      <td>Right_Hand</td>\n",
       "      <td>Right-arm medium</td>\n",
       "      <td>Australia</td>\n",
       "    </tr>\n",
       "    <tr>\n",
       "      <th>3</th>\n",
       "      <td>4</td>\n",
       "      <td>DJ Hussey</td>\n",
       "      <td>15-Jul-77</td>\n",
       "      <td>Right_Hand</td>\n",
       "      <td>Right-arm offbreak</td>\n",
       "      <td>Australia</td>\n",
       "    </tr>\n",
       "    <tr>\n",
       "      <th>4</th>\n",
       "      <td>5</td>\n",
       "      <td>Mohammad Hafeez</td>\n",
       "      <td>17-Oct-80</td>\n",
       "      <td>Right_Hand</td>\n",
       "      <td>Right-arm offbreak</td>\n",
       "      <td>Pakistan</td>\n",
       "    </tr>\n",
       "    <tr>\n",
       "      <th>5</th>\n",
       "      <td>6</td>\n",
       "      <td>R Dravid</td>\n",
       "      <td>11-Jan-73</td>\n",
       "      <td>Right_Hand</td>\n",
       "      <td>Right-arm offbreak</td>\n",
       "      <td>India</td>\n",
       "    </tr>\n",
       "    <tr>\n",
       "      <th>6</th>\n",
       "      <td>7</td>\n",
       "      <td>W Jaffer</td>\n",
       "      <td>16-Feb-78</td>\n",
       "      <td>Right_Hand</td>\n",
       "      <td>Right-arm offbreak</td>\n",
       "      <td>India</td>\n",
       "    </tr>\n",
       "    <tr>\n",
       "      <th>7</th>\n",
       "      <td>8</td>\n",
       "      <td>V Kohli</td>\n",
       "      <td>5-Nov-88</td>\n",
       "      <td>Right_Hand</td>\n",
       "      <td>Right-arm medium</td>\n",
       "      <td>India</td>\n",
       "    </tr>\n",
       "    <tr>\n",
       "      <th>8</th>\n",
       "      <td>9</td>\n",
       "      <td>JH Kallis</td>\n",
       "      <td>16-Oct-75</td>\n",
       "      <td>Right_Hand</td>\n",
       "      <td>Right-arm fast-medium</td>\n",
       "      <td>South Africa</td>\n",
       "    </tr>\n",
       "    <tr>\n",
       "      <th>9</th>\n",
       "      <td>10</td>\n",
       "      <td>CL White</td>\n",
       "      <td>18-Aug-83</td>\n",
       "      <td>Right_Hand</td>\n",
       "      <td>Legbreak googly</td>\n",
       "      <td>Australia</td>\n",
       "    </tr>\n",
       "  </tbody>\n",
       "</table>\n",
       "</div>"
      ],
      "text/plain": [
       "   Player_Id      Player_Name        DOB Batting_Hand          Bowling_Skill  \\\n",
       "0          1       SC Ganguly   8-Jul-72    Left_Hand       Right-arm medium   \n",
       "1          2      BB McCullum  27-Sep-81   Right_Hand       Right-arm medium   \n",
       "2          3       RT Ponting  19-Dec-74   Right_Hand       Right-arm medium   \n",
       "3          4        DJ Hussey  15-Jul-77   Right_Hand     Right-arm offbreak   \n",
       "4          5  Mohammad Hafeez  17-Oct-80   Right_Hand     Right-arm offbreak   \n",
       "5          6         R Dravid  11-Jan-73   Right_Hand     Right-arm offbreak   \n",
       "6          7         W Jaffer  16-Feb-78   Right_Hand     Right-arm offbreak   \n",
       "7          8          V Kohli   5-Nov-88   Right_Hand       Right-arm medium   \n",
       "8          9        JH Kallis  16-Oct-75   Right_Hand  Right-arm fast-medium   \n",
       "9         10         CL White  18-Aug-83   Right_Hand        Legbreak googly   \n",
       "\n",
       "        Country  \n",
       "0         India  \n",
       "1   New Zealand  \n",
       "2     Australia  \n",
       "3     Australia  \n",
       "4      Pakistan  \n",
       "5         India  \n",
       "6         India  \n",
       "7         India  \n",
       "8  South Africa  \n",
       "9     Australia  "
      ]
     },
     "execution_count": 5,
     "metadata": {},
     "output_type": "execute_result"
    }
   ],
   "source": [
    "players = pd.read_csv(r'../input/indian-premier-league-csv-dataset/Player.csv')\n",
    "players = players.drop([\"Is_Umpire\", \"Unnamed: 7\"], axis = 1)\n",
    "players.head(10)"
   ]
  },
  {
   "cell_type": "code",
   "execution_count": 6,
   "metadata": {
    "execution": {
     "iopub.execute_input": "2022-11-06T12:48:19.928350Z",
     "iopub.status.busy": "2022-11-06T12:48:19.927711Z",
     "iopub.status.idle": "2022-11-06T12:48:20.193672Z",
     "shell.execute_reply": "2022-11-06T12:48:20.193132Z"
    },
    "executionInfo": {
     "elapsed": 1841,
     "status": "ok",
     "timestamp": 1596356835555,
     "user": {
      "displayName": "RUCHI BHATIA",
      "photoUrl": "",
      "userId": "04469733066996764193"
     },
     "user_tz": -330
    },
    "id": "dWERXALtSt8m",
    "outputId": "bdfcfae4-8507-469d-a5e5-e14dbbbb9dde",
    "papermill": {
     "duration": 0.305684,
     "end_time": "2022-11-06T12:48:20.193811",
     "exception": false,
     "start_time": "2022-11-06T12:48:19.888127",
     "status": "completed"
    },
    "tags": []
   },
   "outputs": [
    {
     "data": {
      "text/html": [
       "<div>\n",
       "<style scoped>\n",
       "    .dataframe tbody tr th:only-of-type {\n",
       "        vertical-align: middle;\n",
       "    }\n",
       "\n",
       "    .dataframe tbody tr th {\n",
       "        vertical-align: top;\n",
       "    }\n",
       "\n",
       "    .dataframe thead th {\n",
       "        text-align: right;\n",
       "    }\n",
       "</style>\n",
       "<table border=\"1\" class=\"dataframe\">\n",
       "  <thead>\n",
       "    <tr style=\"text-align: right;\">\n",
       "      <th></th>\n",
       "      <th>Match_Id</th>\n",
       "      <th>Innings_Id</th>\n",
       "      <th>Over_Id</th>\n",
       "      <th>Ball_Id</th>\n",
       "      <th>Team_Batting_Id</th>\n",
       "      <th>Team_Bowling_Id</th>\n",
       "      <th>Striker_Id</th>\n",
       "      <th>Striker_Batting_Position</th>\n",
       "      <th>Non_Striker_Id</th>\n",
       "      <th>Bowler_Id</th>\n",
       "      <th>Batsman_Scored</th>\n",
       "      <th>Extra_Type</th>\n",
       "      <th>Extra_Runs</th>\n",
       "      <th>Player_dissimal_Id</th>\n",
       "      <th>Dissimal_Type</th>\n",
       "      <th>Fielder_Id</th>\n",
       "    </tr>\n",
       "  </thead>\n",
       "  <tbody>\n",
       "    <tr>\n",
       "      <th>0</th>\n",
       "      <td>335987</td>\n",
       "      <td>1</td>\n",
       "      <td>1</td>\n",
       "      <td>1</td>\n",
       "      <td>1</td>\n",
       "      <td>2</td>\n",
       "      <td>1</td>\n",
       "      <td>1</td>\n",
       "      <td>2</td>\n",
       "      <td>14</td>\n",
       "      <td>0</td>\n",
       "      <td>legbyes</td>\n",
       "      <td>1</td>\n",
       "      <td></td>\n",
       "      <td></td>\n",
       "      <td></td>\n",
       "    </tr>\n",
       "    <tr>\n",
       "      <th>1</th>\n",
       "      <td>335987</td>\n",
       "      <td>1</td>\n",
       "      <td>1</td>\n",
       "      <td>2</td>\n",
       "      <td>1</td>\n",
       "      <td>2</td>\n",
       "      <td>2</td>\n",
       "      <td>2</td>\n",
       "      <td>1</td>\n",
       "      <td>14</td>\n",
       "      <td>0</td>\n",
       "      <td></td>\n",
       "      <td></td>\n",
       "      <td></td>\n",
       "      <td></td>\n",
       "      <td></td>\n",
       "    </tr>\n",
       "    <tr>\n",
       "      <th>2</th>\n",
       "      <td>335987</td>\n",
       "      <td>1</td>\n",
       "      <td>1</td>\n",
       "      <td>3</td>\n",
       "      <td>1</td>\n",
       "      <td>2</td>\n",
       "      <td>2</td>\n",
       "      <td>2</td>\n",
       "      <td>1</td>\n",
       "      <td>14</td>\n",
       "      <td>0</td>\n",
       "      <td>wides</td>\n",
       "      <td>1</td>\n",
       "      <td></td>\n",
       "      <td></td>\n",
       "      <td></td>\n",
       "    </tr>\n",
       "    <tr>\n",
       "      <th>3</th>\n",
       "      <td>335987</td>\n",
       "      <td>1</td>\n",
       "      <td>1</td>\n",
       "      <td>4</td>\n",
       "      <td>1</td>\n",
       "      <td>2</td>\n",
       "      <td>2</td>\n",
       "      <td>2</td>\n",
       "      <td>1</td>\n",
       "      <td>14</td>\n",
       "      <td>0</td>\n",
       "      <td></td>\n",
       "      <td></td>\n",
       "      <td></td>\n",
       "      <td></td>\n",
       "      <td></td>\n",
       "    </tr>\n",
       "    <tr>\n",
       "      <th>4</th>\n",
       "      <td>335987</td>\n",
       "      <td>1</td>\n",
       "      <td>1</td>\n",
       "      <td>5</td>\n",
       "      <td>1</td>\n",
       "      <td>2</td>\n",
       "      <td>2</td>\n",
       "      <td>2</td>\n",
       "      <td>1</td>\n",
       "      <td>14</td>\n",
       "      <td>0</td>\n",
       "      <td></td>\n",
       "      <td></td>\n",
       "      <td></td>\n",
       "      <td></td>\n",
       "      <td></td>\n",
       "    </tr>\n",
       "    <tr>\n",
       "      <th>5</th>\n",
       "      <td>335987</td>\n",
       "      <td>1</td>\n",
       "      <td>1</td>\n",
       "      <td>6</td>\n",
       "      <td>1</td>\n",
       "      <td>2</td>\n",
       "      <td>2</td>\n",
       "      <td>2</td>\n",
       "      <td>1</td>\n",
       "      <td>14</td>\n",
       "      <td>0</td>\n",
       "      <td></td>\n",
       "      <td></td>\n",
       "      <td></td>\n",
       "      <td></td>\n",
       "      <td></td>\n",
       "    </tr>\n",
       "    <tr>\n",
       "      <th>6</th>\n",
       "      <td>335987</td>\n",
       "      <td>1</td>\n",
       "      <td>1</td>\n",
       "      <td>7</td>\n",
       "      <td>1</td>\n",
       "      <td>2</td>\n",
       "      <td>2</td>\n",
       "      <td>2</td>\n",
       "      <td>1</td>\n",
       "      <td>14</td>\n",
       "      <td>0</td>\n",
       "      <td>legbyes</td>\n",
       "      <td>1</td>\n",
       "      <td></td>\n",
       "      <td></td>\n",
       "      <td></td>\n",
       "    </tr>\n",
       "    <tr>\n",
       "      <th>7</th>\n",
       "      <td>335987</td>\n",
       "      <td>1</td>\n",
       "      <td>2</td>\n",
       "      <td>1</td>\n",
       "      <td>1</td>\n",
       "      <td>2</td>\n",
       "      <td>2</td>\n",
       "      <td>2</td>\n",
       "      <td>1</td>\n",
       "      <td>15</td>\n",
       "      <td>0</td>\n",
       "      <td></td>\n",
       "      <td></td>\n",
       "      <td></td>\n",
       "      <td></td>\n",
       "      <td></td>\n",
       "    </tr>\n",
       "    <tr>\n",
       "      <th>8</th>\n",
       "      <td>335987</td>\n",
       "      <td>1</td>\n",
       "      <td>2</td>\n",
       "      <td>2</td>\n",
       "      <td>1</td>\n",
       "      <td>2</td>\n",
       "      <td>2</td>\n",
       "      <td>2</td>\n",
       "      <td>1</td>\n",
       "      <td>15</td>\n",
       "      <td>4</td>\n",
       "      <td></td>\n",
       "      <td></td>\n",
       "      <td></td>\n",
       "      <td></td>\n",
       "      <td></td>\n",
       "    </tr>\n",
       "    <tr>\n",
       "      <th>9</th>\n",
       "      <td>335987</td>\n",
       "      <td>1</td>\n",
       "      <td>2</td>\n",
       "      <td>3</td>\n",
       "      <td>1</td>\n",
       "      <td>2</td>\n",
       "      <td>2</td>\n",
       "      <td>2</td>\n",
       "      <td>1</td>\n",
       "      <td>15</td>\n",
       "      <td>4</td>\n",
       "      <td></td>\n",
       "      <td></td>\n",
       "      <td></td>\n",
       "      <td></td>\n",
       "      <td></td>\n",
       "    </tr>\n",
       "  </tbody>\n",
       "</table>\n",
       "</div>"
      ],
      "text/plain": [
       "   Match_Id  Innings_Id  Over_Id  Ball_Id  Team_Batting_Id  Team_Bowling_Id  \\\n",
       "0    335987           1        1        1                1                2   \n",
       "1    335987           1        1        2                1                2   \n",
       "2    335987           1        1        3                1                2   \n",
       "3    335987           1        1        4                1                2   \n",
       "4    335987           1        1        5                1                2   \n",
       "5    335987           1        1        6                1                2   \n",
       "6    335987           1        1        7                1                2   \n",
       "7    335987           1        2        1                1                2   \n",
       "8    335987           1        2        2                1                2   \n",
       "9    335987           1        2        3                1                2   \n",
       "\n",
       "   Striker_Id  Striker_Batting_Position  Non_Striker_Id  Bowler_Id  \\\n",
       "0           1                         1               2         14   \n",
       "1           2                         2               1         14   \n",
       "2           2                         2               1         14   \n",
       "3           2                         2               1         14   \n",
       "4           2                         2               1         14   \n",
       "5           2                         2               1         14   \n",
       "6           2                         2               1         14   \n",
       "7           2                         2               1         15   \n",
       "8           2                         2               1         15   \n",
       "9           2                         2               1         15   \n",
       "\n",
       "  Batsman_Scored Extra_Type Extra_Runs Player_dissimal_Id Dissimal_Type  \\\n",
       "0              0    legbyes          1                                    \n",
       "1              0                                                          \n",
       "2              0      wides          1                                    \n",
       "3              0                                                          \n",
       "4              0                                                          \n",
       "5              0                                                          \n",
       "6              0    legbyes          1                                    \n",
       "7              0                                                          \n",
       "8              4                                                          \n",
       "9              4                                                          \n",
       "\n",
       "  Fielder_Id  \n",
       "0             \n",
       "1             \n",
       "2             \n",
       "3             \n",
       "4             \n",
       "5             \n",
       "6             \n",
       "7             \n",
       "8             \n",
       "9             "
      ]
     },
     "execution_count": 6,
     "metadata": {},
     "output_type": "execute_result"
    }
   ],
   "source": [
    "runs = pd.read_csv(r'../input/indian-premier-league-csv-dataset/Ball_by_Ball.csv')\n",
    "runs.head(10)"
   ]
  },
  {
   "cell_type": "code",
   "execution_count": 7,
   "metadata": {
    "execution": {
     "iopub.execute_input": "2022-11-06T12:48:20.280472Z",
     "iopub.status.busy": "2022-11-06T12:48:20.279739Z",
     "iopub.status.idle": "2022-11-06T12:48:20.286725Z",
     "shell.execute_reply": "2022-11-06T12:48:20.286206Z"
    },
    "papermill": {
     "duration": 0.055916,
     "end_time": "2022-11-06T12:48:20.286869",
     "exception": false,
     "start_time": "2022-11-06T12:48:20.230953",
     "status": "completed"
    },
    "tags": []
   },
   "outputs": [
    {
     "data": {
      "text/plain": [
       "array([' ', 'caught', 'bowled', 'run out', 'lbw', 'retired hurt',\n",
       "       'stumped', 'caught and bowled', 'hit wicket',\n",
       "       'obstructing the field'], dtype=object)"
      ]
     },
     "execution_count": 7,
     "metadata": {},
     "output_type": "execute_result"
    }
   ],
   "source": [
    "runs.Dissimal_Type.unique()"
   ]
  },
  {
   "cell_type": "code",
   "execution_count": 8,
   "metadata": {
    "execution": {
     "iopub.execute_input": "2022-11-06T12:48:20.368171Z",
     "iopub.status.busy": "2022-11-06T12:48:20.367497Z",
     "iopub.status.idle": "2022-11-06T12:48:20.586223Z",
     "shell.execute_reply": "2022-11-06T12:48:20.585638Z"
    },
    "papermill": {
     "duration": 0.261782,
     "end_time": "2022-11-06T12:48:20.586370",
     "exception": false,
     "start_time": "2022-11-06T12:48:20.324588",
     "status": "completed"
    },
    "tags": []
   },
   "outputs": [],
   "source": [
    "runs['Dissimal_Type'] = runs['Dissimal_Type'].replace(r'^\\s*$', np.nan, regex=True)"
   ]
  },
  {
   "cell_type": "code",
   "execution_count": 9,
   "metadata": {
    "execution": {
     "iopub.execute_input": "2022-11-06T12:48:20.667842Z",
     "iopub.status.busy": "2022-11-06T12:48:20.667202Z",
     "iopub.status.idle": "2022-11-06T12:48:20.671333Z",
     "shell.execute_reply": "2022-11-06T12:48:20.670659Z"
    },
    "papermill": {
     "duration": 0.047431,
     "end_time": "2022-11-06T12:48:20.671447",
     "exception": false,
     "start_time": "2022-11-06T12:48:20.624016",
     "status": "completed"
    },
    "tags": []
   },
   "outputs": [
    {
     "data": {
      "text/plain": [
       "Match_Id                     int64\n",
       "Innings_Id                   int64\n",
       "Over_Id                      int64\n",
       "Ball_Id                      int64\n",
       "Team_Batting_Id              int64\n",
       "Team_Bowling_Id              int64\n",
       "Striker_Id                   int64\n",
       "Striker_Batting_Position     int64\n",
       "Non_Striker_Id               int64\n",
       "Bowler_Id                    int64\n",
       "Batsman_Scored              object\n",
       "Extra_Type                  object\n",
       "Extra_Runs                  object\n",
       "Player_dissimal_Id          object\n",
       "Dissimal_Type               object\n",
       "Fielder_Id                  object\n",
       "dtype: object"
      ]
     },
     "execution_count": 9,
     "metadata": {},
     "output_type": "execute_result"
    }
   ],
   "source": [
    "runs.dtypes"
   ]
  },
  {
   "cell_type": "code",
   "execution_count": 10,
   "metadata": {
    "execution": {
     "iopub.execute_input": "2022-11-06T12:48:20.862103Z",
     "iopub.status.busy": "2022-11-06T12:48:20.850904Z",
     "iopub.status.idle": "2022-11-06T12:48:20.949347Z",
     "shell.execute_reply": "2022-11-06T12:48:20.948600Z"
    },
    "executionInfo": {
     "elapsed": 2271,
     "status": "ok",
     "timestamp": 1596356836018,
     "user": {
      "displayName": "RUCHI BHATIA",
      "photoUrl": "",
      "userId": "04469733066996764193"
     },
     "user_tz": -330
    },
    "id": "Tkd4CxUx2sKN",
    "outputId": "56a12c3f-888e-4c71-8239-2fae58372acf",
    "papermill": {
     "duration": 0.239736,
     "end_time": "2022-11-06T12:48:20.949567",
     "exception": false,
     "start_time": "2022-11-06T12:48:20.709831",
     "status": "completed"
    },
    "tags": []
   },
   "outputs": [],
   "source": [
    "runs[\"Extra_Runs\"] = pd.to_numeric(runs[\"Extra_Runs\"], errors=\"coerce\")\n",
    "runs[\"Extra_Runs\"] = runs[\"Extra_Runs\"].fillna(0)\n",
    "\n",
    "runs[\"Batsman_Scored\"] = pd.to_numeric(runs[\"Batsman_Scored\"], errors=\"coerce\")\n",
    "runs[\"Batsman_Scored\"] = runs[\"Batsman_Scored\"].fillna(0)"
   ]
  },
  {
   "cell_type": "code",
   "execution_count": 11,
   "metadata": {
    "execution": {
     "iopub.execute_input": "2022-11-06T12:48:21.042939Z",
     "iopub.status.busy": "2022-11-06T12:48:21.042264Z",
     "iopub.status.idle": "2022-11-06T12:48:21.046859Z",
     "shell.execute_reply": "2022-11-06T12:48:21.046297Z"
    },
    "papermill": {
     "duration": 0.059538,
     "end_time": "2022-11-06T12:48:21.046978",
     "exception": false,
     "start_time": "2022-11-06T12:48:20.987440",
     "status": "completed"
    },
    "tags": []
   },
   "outputs": [
    {
     "data": {
      "text/html": [
       "<div>\n",
       "<style scoped>\n",
       "    .dataframe tbody tr th:only-of-type {\n",
       "        vertical-align: middle;\n",
       "    }\n",
       "\n",
       "    .dataframe tbody tr th {\n",
       "        vertical-align: top;\n",
       "    }\n",
       "\n",
       "    .dataframe thead th {\n",
       "        text-align: right;\n",
       "    }\n",
       "</style>\n",
       "<table border=\"1\" class=\"dataframe\">\n",
       "  <thead>\n",
       "    <tr style=\"text-align: right;\">\n",
       "      <th></th>\n",
       "      <th>Match_Id</th>\n",
       "      <th>Innings_Id</th>\n",
       "      <th>Over_Id</th>\n",
       "      <th>Ball_Id</th>\n",
       "      <th>Team_Batting_Id</th>\n",
       "      <th>Team_Bowling_Id</th>\n",
       "      <th>Striker_Id</th>\n",
       "      <th>Striker_Batting_Position</th>\n",
       "      <th>Non_Striker_Id</th>\n",
       "      <th>Bowler_Id</th>\n",
       "      <th>Batsman_Scored</th>\n",
       "      <th>Extra_Type</th>\n",
       "      <th>Extra_Runs</th>\n",
       "      <th>Player_dissimal_Id</th>\n",
       "      <th>Dissimal_Type</th>\n",
       "      <th>Fielder_Id</th>\n",
       "    </tr>\n",
       "  </thead>\n",
       "  <tbody>\n",
       "    <tr>\n",
       "      <th>0</th>\n",
       "      <td>335987</td>\n",
       "      <td>1</td>\n",
       "      <td>1</td>\n",
       "      <td>1</td>\n",
       "      <td>1</td>\n",
       "      <td>2</td>\n",
       "      <td>1</td>\n",
       "      <td>1</td>\n",
       "      <td>2</td>\n",
       "      <td>14</td>\n",
       "      <td>0.0</td>\n",
       "      <td>legbyes</td>\n",
       "      <td>1.0</td>\n",
       "      <td></td>\n",
       "      <td>NaN</td>\n",
       "      <td></td>\n",
       "    </tr>\n",
       "    <tr>\n",
       "      <th>1</th>\n",
       "      <td>335987</td>\n",
       "      <td>1</td>\n",
       "      <td>1</td>\n",
       "      <td>2</td>\n",
       "      <td>1</td>\n",
       "      <td>2</td>\n",
       "      <td>2</td>\n",
       "      <td>2</td>\n",
       "      <td>1</td>\n",
       "      <td>14</td>\n",
       "      <td>0.0</td>\n",
       "      <td></td>\n",
       "      <td>0.0</td>\n",
       "      <td></td>\n",
       "      <td>NaN</td>\n",
       "      <td></td>\n",
       "    </tr>\n",
       "    <tr>\n",
       "      <th>2</th>\n",
       "      <td>335987</td>\n",
       "      <td>1</td>\n",
       "      <td>1</td>\n",
       "      <td>3</td>\n",
       "      <td>1</td>\n",
       "      <td>2</td>\n",
       "      <td>2</td>\n",
       "      <td>2</td>\n",
       "      <td>1</td>\n",
       "      <td>14</td>\n",
       "      <td>0.0</td>\n",
       "      <td>wides</td>\n",
       "      <td>1.0</td>\n",
       "      <td></td>\n",
       "      <td>NaN</td>\n",
       "      <td></td>\n",
       "    </tr>\n",
       "    <tr>\n",
       "      <th>3</th>\n",
       "      <td>335987</td>\n",
       "      <td>1</td>\n",
       "      <td>1</td>\n",
       "      <td>4</td>\n",
       "      <td>1</td>\n",
       "      <td>2</td>\n",
       "      <td>2</td>\n",
       "      <td>2</td>\n",
       "      <td>1</td>\n",
       "      <td>14</td>\n",
       "      <td>0.0</td>\n",
       "      <td></td>\n",
       "      <td>0.0</td>\n",
       "      <td></td>\n",
       "      <td>NaN</td>\n",
       "      <td></td>\n",
       "    </tr>\n",
       "    <tr>\n",
       "      <th>4</th>\n",
       "      <td>335987</td>\n",
       "      <td>1</td>\n",
       "      <td>1</td>\n",
       "      <td>5</td>\n",
       "      <td>1</td>\n",
       "      <td>2</td>\n",
       "      <td>2</td>\n",
       "      <td>2</td>\n",
       "      <td>1</td>\n",
       "      <td>14</td>\n",
       "      <td>0.0</td>\n",
       "      <td></td>\n",
       "      <td>0.0</td>\n",
       "      <td></td>\n",
       "      <td>NaN</td>\n",
       "      <td></td>\n",
       "    </tr>\n",
       "  </tbody>\n",
       "</table>\n",
       "</div>"
      ],
      "text/plain": [
       "   Match_Id  Innings_Id  Over_Id  Ball_Id  Team_Batting_Id  Team_Bowling_Id  \\\n",
       "0    335987           1        1        1                1                2   \n",
       "1    335987           1        1        2                1                2   \n",
       "2    335987           1        1        3                1                2   \n",
       "3    335987           1        1        4                1                2   \n",
       "4    335987           1        1        5                1                2   \n",
       "\n",
       "   Striker_Id  Striker_Batting_Position  Non_Striker_Id  Bowler_Id  \\\n",
       "0           1                         1               2         14   \n",
       "1           2                         2               1         14   \n",
       "2           2                         2               1         14   \n",
       "3           2                         2               1         14   \n",
       "4           2                         2               1         14   \n",
       "\n",
       "   Batsman_Scored Extra_Type  Extra_Runs Player_dissimal_Id Dissimal_Type  \\\n",
       "0             0.0    legbyes         1.0                              NaN   \n",
       "1             0.0                    0.0                              NaN   \n",
       "2             0.0      wides         1.0                              NaN   \n",
       "3             0.0                    0.0                              NaN   \n",
       "4             0.0                    0.0                              NaN   \n",
       "\n",
       "  Fielder_Id  \n",
       "0             \n",
       "1             \n",
       "2             \n",
       "3             \n",
       "4             "
      ]
     },
     "execution_count": 11,
     "metadata": {},
     "output_type": "execute_result"
    }
   ],
   "source": [
    "runs.head()"
   ]
  },
  {
   "cell_type": "markdown",
   "metadata": {
    "id": "Ss5tZiHb2sKS",
    "papermill": {
     "duration": 0.037963,
     "end_time": "2022-11-06T12:48:21.124066",
     "exception": false,
     "start_time": "2022-11-06T12:48:21.086103",
     "status": "completed"
    },
    "tags": []
   },
   "source": [
    "### Batsmen"
   ]
  },
  {
   "cell_type": "markdown",
   "metadata": {
    "id": "bZo83Ps0T3bD",
    "papermill": {
     "duration": 0.037438,
     "end_time": "2022-11-06T12:48:21.198901",
     "exception": false,
     "start_time": "2022-11-06T12:48:21.161463",
     "status": "completed"
    },
    "tags": []
   },
   "source": [
    "> *strike_rate = runs per 100 balls faced*"
   ]
  },
  {
   "cell_type": "code",
   "execution_count": 12,
   "metadata": {
    "execution": {
     "iopub.execute_input": "2022-11-06T12:48:21.303798Z",
     "iopub.status.busy": "2022-11-06T12:48:21.303020Z",
     "iopub.status.idle": "2022-11-06T12:48:21.986140Z",
     "shell.execute_reply": "2022-11-06T12:48:21.987124Z"
    },
    "executionInfo": {
     "elapsed": 2959,
     "status": "ok",
     "timestamp": 1596356836710,
     "user": {
      "displayName": "RUCHI BHATIA",
      "photoUrl": "",
      "userId": "04469733066996764193"
     },
     "user_tz": -330
    },
    "id": "1dH7kCK12sKU",
    "papermill": {
     "duration": 0.741406,
     "end_time": "2022-11-06T12:48:21.987287",
     "exception": false,
     "start_time": "2022-11-06T12:48:21.245881",
     "status": "completed"
    },
    "tags": []
   },
   "outputs": [],
   "source": [
    "batsmen_runs = []\n",
    "batsmen_ballsFaced = []\n",
    "\n",
    "for i in runs[\"Striker_Id\"].unique():\n",
    "    r = runs[\"Batsman_Scored\"][runs[\"Striker_Id\"] == i].sum()\n",
    "    b = runs[\"Match_Id\"][runs[\"Striker_Id\"] == i].count()\n",
    "    batsmen_runs.append(r)\n",
    "    batsmen_ballsFaced.append(b)\n",
    "\n",
    "batsmen = pd.DataFrame({\"Player_Id\": runs[\"Striker_Id\"].unique()})\n",
    "\n",
    "batsmen[\"Runs\"] = batsmen_runs\n",
    "batsmen[\"Balls_played\"] = batsmen_ballsFaced\n",
    "\n",
    "batsmen[\"Strike_Rate\"] = (batsmen[\"Runs\"] * 100 / batsmen[\"Balls_played\"]).round(2)"
   ]
  },
  {
   "cell_type": "code",
   "execution_count": 13,
   "metadata": {
    "execution": {
     "iopub.execute_input": "2022-11-06T12:48:22.077144Z",
     "iopub.status.busy": "2022-11-06T12:48:22.076234Z",
     "iopub.status.idle": "2022-11-06T12:48:22.080083Z",
     "shell.execute_reply": "2022-11-06T12:48:22.080616Z"
    },
    "papermill": {
     "duration": 0.054178,
     "end_time": "2022-11-06T12:48:22.080779",
     "exception": false,
     "start_time": "2022-11-06T12:48:22.026601",
     "status": "completed"
    },
    "tags": []
   },
   "outputs": [
    {
     "data": {
      "text/html": [
       "<div>\n",
       "<style scoped>\n",
       "    .dataframe tbody tr th:only-of-type {\n",
       "        vertical-align: middle;\n",
       "    }\n",
       "\n",
       "    .dataframe tbody tr th {\n",
       "        vertical-align: top;\n",
       "    }\n",
       "\n",
       "    .dataframe thead th {\n",
       "        text-align: right;\n",
       "    }\n",
       "</style>\n",
       "<table border=\"1\" class=\"dataframe\">\n",
       "  <thead>\n",
       "    <tr style=\"text-align: right;\">\n",
       "      <th></th>\n",
       "      <th>Player_Id</th>\n",
       "      <th>Runs</th>\n",
       "      <th>Balls_played</th>\n",
       "      <th>Strike_Rate</th>\n",
       "    </tr>\n",
       "  </thead>\n",
       "  <tbody>\n",
       "    <tr>\n",
       "      <th>0</th>\n",
       "      <td>1</td>\n",
       "      <td>1349.0</td>\n",
       "      <td>1326</td>\n",
       "      <td>101.73</td>\n",
       "    </tr>\n",
       "    <tr>\n",
       "      <th>1</th>\n",
       "      <td>2</td>\n",
       "      <td>2435.0</td>\n",
       "      <td>1954</td>\n",
       "      <td>124.62</td>\n",
       "    </tr>\n",
       "    <tr>\n",
       "      <th>2</th>\n",
       "      <td>3</td>\n",
       "      <td>91.0</td>\n",
       "      <td>129</td>\n",
       "      <td>70.54</td>\n",
       "    </tr>\n",
       "    <tr>\n",
       "      <th>3</th>\n",
       "      <td>4</td>\n",
       "      <td>1322.0</td>\n",
       "      <td>1101</td>\n",
       "      <td>120.07</td>\n",
       "    </tr>\n",
       "    <tr>\n",
       "      <th>4</th>\n",
       "      <td>5</td>\n",
       "      <td>64.0</td>\n",
       "      <td>84</td>\n",
       "      <td>76.19</td>\n",
       "    </tr>\n",
       "  </tbody>\n",
       "</table>\n",
       "</div>"
      ],
      "text/plain": [
       "   Player_Id    Runs  Balls_played  Strike_Rate\n",
       "0          1  1349.0          1326       101.73\n",
       "1          2  2435.0          1954       124.62\n",
       "2          3    91.0           129        70.54\n",
       "3          4  1322.0          1101       120.07\n",
       "4          5    64.0            84        76.19"
      ]
     },
     "execution_count": 13,
     "metadata": {},
     "output_type": "execute_result"
    }
   ],
   "source": [
    "batsmen.head(5)"
   ]
  },
  {
   "cell_type": "code",
   "execution_count": 14,
   "metadata": {
    "execution": {
     "iopub.execute_input": "2022-11-06T12:48:22.167519Z",
     "iopub.status.busy": "2022-11-06T12:48:22.166513Z",
     "iopub.status.idle": "2022-11-06T12:48:22.176435Z",
     "shell.execute_reply": "2022-11-06T12:48:22.177384Z"
    },
    "papermill": {
     "duration": 0.057582,
     "end_time": "2022-11-06T12:48:22.177651",
     "exception": false,
     "start_time": "2022-11-06T12:48:22.120069",
     "status": "completed"
    },
    "tags": []
   },
   "outputs": [],
   "source": [
    "def triple_plot(x, title,c):\n",
    "    fig, ax = plt.subplots(3,1,figsize=(20,12),sharex=True)\n",
    "    sns.distplot(x, ax=ax[0],color=c)\n",
    "    ax[0].set(xlabel=None)\n",
    "    ax[0].set_title('Histogram + KDE')\n",
    "    sns.boxplot(x, ax=ax[1],color=c)\n",
    "    ax[1].set(xlabel=None)\n",
    "    ax[1].set_title('Boxplot')\n",
    "    sns.violinplot(x, ax=ax[2],color=c)\n",
    "    ax[2].set(xlabel=None)\n",
    "    ax[2].set_title('Violin plot')\n",
    "    fig.suptitle(title, fontsize=25)\n",
    "    plt.tight_layout(pad=3.0)\n",
    "    plt.show()"
   ]
  },
  {
   "cell_type": "markdown",
   "metadata": {
    "papermill": {
     "duration": 0.038868,
     "end_time": "2022-11-06T12:48:22.268749",
     "exception": false,
     "start_time": "2022-11-06T12:48:22.229881",
     "status": "completed"
    },
    "tags": []
   },
   "source": [
    "*We notice the presence of outliers with the help of the box plot for strike rate.*"
   ]
  },
  {
   "cell_type": "markdown",
   "metadata": {
    "papermill": {
     "duration": 0.03863,
     "end_time": "2022-11-06T12:48:22.346483",
     "exception": false,
     "start_time": "2022-11-06T12:48:22.307853",
     "status": "completed"
    },
    "tags": []
   },
   "source": [
    "*Players with low strike rate are eliminated*"
   ]
  },
  {
   "cell_type": "code",
   "execution_count": 15,
   "metadata": {
    "execution": {
     "iopub.execute_input": "2022-11-06T12:48:22.429270Z",
     "iopub.status.busy": "2022-11-06T12:48:22.428602Z",
     "iopub.status.idle": "2022-11-06T12:48:22.432484Z",
     "shell.execute_reply": "2022-11-06T12:48:22.431847Z"
    },
    "executionInfo": {
     "elapsed": 2950,
     "status": "ok",
     "timestamp": 1596356836711,
     "user": {
      "displayName": "RUCHI BHATIA",
      "photoUrl": "",
      "userId": "04469733066996764193"
     },
     "user_tz": -330
    },
    "id": "ldIj7zQPUaBb",
    "papermill": {
     "duration": 0.047324,
     "end_time": "2022-11-06T12:48:22.432595",
     "exception": false,
     "start_time": "2022-11-06T12:48:22.385271",
     "status": "completed"
    },
    "tags": []
   },
   "outputs": [],
   "source": [
    "batsmen = batsmen[batsmen[\"Strike_Rate\"] > 120]"
   ]
  },
  {
   "cell_type": "code",
   "execution_count": 16,
   "metadata": {
    "execution": {
     "iopub.execute_input": "2022-11-06T12:48:22.521719Z",
     "iopub.status.busy": "2022-11-06T12:48:22.521078Z",
     "iopub.status.idle": "2022-11-06T12:48:22.525202Z",
     "shell.execute_reply": "2022-11-06T12:48:22.524694Z"
    },
    "executionInfo": {
     "elapsed": 2942,
     "status": "ok",
     "timestamp": 1596356836712,
     "user": {
      "displayName": "RUCHI BHATIA",
      "photoUrl": "",
      "userId": "04469733066996764193"
     },
     "user_tz": -330
    },
    "id": "BzHnc5NbrzSm",
    "outputId": "15e42311-c5ad-44b9-de35-f6a70ad470ea",
    "papermill": {
     "duration": 0.053541,
     "end_time": "2022-11-06T12:48:22.525345",
     "exception": false,
     "start_time": "2022-11-06T12:48:22.471804",
     "status": "completed"
    },
    "tags": []
   },
   "outputs": [
    {
     "data": {
      "text/html": [
       "<div>\n",
       "<style scoped>\n",
       "    .dataframe tbody tr th:only-of-type {\n",
       "        vertical-align: middle;\n",
       "    }\n",
       "\n",
       "    .dataframe tbody tr th {\n",
       "        vertical-align: top;\n",
       "    }\n",
       "\n",
       "    .dataframe thead th {\n",
       "        text-align: right;\n",
       "    }\n",
       "</style>\n",
       "<table border=\"1\" class=\"dataframe\">\n",
       "  <thead>\n",
       "    <tr style=\"text-align: right;\">\n",
       "      <th></th>\n",
       "      <th>Player_Id</th>\n",
       "      <th>Runs</th>\n",
       "      <th>Balls_played</th>\n",
       "      <th>Strike_Rate</th>\n",
       "    </tr>\n",
       "  </thead>\n",
       "  <tbody>\n",
       "    <tr>\n",
       "      <th>1</th>\n",
       "      <td>2</td>\n",
       "      <td>2435.0</td>\n",
       "      <td>1954</td>\n",
       "      <td>124.62</td>\n",
       "    </tr>\n",
       "    <tr>\n",
       "      <th>3</th>\n",
       "      <td>4</td>\n",
       "      <td>1322.0</td>\n",
       "      <td>1101</td>\n",
       "      <td>120.07</td>\n",
       "    </tr>\n",
       "    <tr>\n",
       "      <th>7</th>\n",
       "      <td>8</td>\n",
       "      <td>4105.0</td>\n",
       "      <td>3236</td>\n",
       "      <td>126.85</td>\n",
       "    </tr>\n",
       "    <tr>\n",
       "      <th>9</th>\n",
       "      <td>10</td>\n",
       "      <td>971.0</td>\n",
       "      <td>774</td>\n",
       "      <td>125.45</td>\n",
       "    </tr>\n",
       "    <tr>\n",
       "      <th>10</th>\n",
       "      <td>11</td>\n",
       "      <td>394.0</td>\n",
       "      <td>318</td>\n",
       "      <td>123.90</td>\n",
       "    </tr>\n",
       "  </tbody>\n",
       "</table>\n",
       "</div>"
      ],
      "text/plain": [
       "    Player_Id    Runs  Balls_played  Strike_Rate\n",
       "1           2  2435.0          1954       124.62\n",
       "3           4  1322.0          1101       120.07\n",
       "7           8  4105.0          3236       126.85\n",
       "9          10   971.0           774       125.45\n",
       "10         11   394.0           318       123.90"
      ]
     },
     "execution_count": 16,
     "metadata": {},
     "output_type": "execute_result"
    }
   ],
   "source": [
    "batsmen.head()"
   ]
  },
  {
   "cell_type": "code",
   "execution_count": 17,
   "metadata": {
    "execution": {
     "iopub.execute_input": "2022-11-06T12:48:22.618472Z",
     "iopub.status.busy": "2022-11-06T12:48:22.617130Z",
     "iopub.status.idle": "2022-11-06T12:48:23.340604Z",
     "shell.execute_reply": "2022-11-06T12:48:23.340064Z"
    },
    "executionInfo": {
     "elapsed": 3619,
     "status": "ok",
     "timestamp": 1596356837395,
     "user": {
      "displayName": "RUCHI BHATIA",
      "photoUrl": "",
      "userId": "04469733066996764193"
     },
     "user_tz": -330
    },
    "id": "DF1A1XHC2sKZ",
    "outputId": "713c3dde-6f97-43de-ad33-790e37469c42",
    "papermill": {
     "duration": 0.775576,
     "end_time": "2022-11-06T12:48:23.340729",
     "exception": false,
     "start_time": "2022-11-06T12:48:22.565153",
     "status": "completed"
    },
    "tags": []
   },
   "outputs": [
    {
     "data": {
      "image/png": "[encoded data removed]",
      "text/plain": [
       "<Figure size 1440x864 with 3 Axes>"
      ]
     },
     "metadata": {
      "needs_background": "light"
     },
     "output_type": "display_data"
    }
   ],
   "source": [
    "triple_plot(batsmen[\"Strike_Rate\"],'Distribution of Strike Rate',custom_colors[1])"
   ]
  },
  {
   "cell_type": "code",
   "execution_count": 18,
   "metadata": {
    "execution": {
     "iopub.execute_input": "2022-11-06T12:48:23.431380Z",
     "iopub.status.busy": "2022-11-06T12:48:23.430341Z",
     "iopub.status.idle": "2022-11-06T12:48:23.433328Z",
     "shell.execute_reply": "2022-11-06T12:48:23.432640Z"
    },
    "papermill": {
     "duration": 0.050406,
     "end_time": "2022-11-06T12:48:23.433461",
     "exception": false,
     "start_time": "2022-11-06T12:48:23.383055",
     "status": "completed"
    },
    "tags": []
   },
   "outputs": [],
   "source": [
    "def scatter_plot(data,title,c,col1,col2):\n",
    "    fig = plt.figure(figsize=(12,6))\n",
    "    sns.scatterplot(x=col1, y=col2, data=data,color=c)\n",
    "    plt.title(title)\n",
    "    plt.show()"
   ]
  },
  {
   "cell_type": "markdown",
   "metadata": {
    "id": "96vlEl8u2sKc",
    "papermill": {
     "duration": 0.041543,
     "end_time": "2022-11-06T12:48:23.517726",
     "exception": false,
     "start_time": "2022-11-06T12:48:23.476183",
     "status": "completed"
    },
    "tags": []
   },
   "source": [
    "### K Means Clustering on Batsmen Data "
   ]
  },
  {
   "cell_type": "code",
   "execution_count": 19,
   "metadata": {
    "execution": {
     "iopub.execute_input": "2022-11-06T12:48:23.615831Z",
     "iopub.status.busy": "2022-11-06T12:48:23.614792Z",
     "iopub.status.idle": "2022-11-06T12:48:23.617524Z",
     "shell.execute_reply": "2022-11-06T12:48:23.618153Z"
    },
    "papermill": {
     "duration": 0.058936,
     "end_time": "2022-11-06T12:48:23.618306",
     "exception": false,
     "start_time": "2022-11-06T12:48:23.559370",
     "status": "completed"
    },
    "tags": []
   },
   "outputs": [],
   "source": [
    "def elbow_method(X):\n",
    "    distortions = [] \n",
    "    inertias = [] \n",
    "    mapping1 = {} \n",
    "    mapping2 = {} \n",
    "    K = range(2,10) \n",
    "\n",
    "    for k in K:  \n",
    "        kmeans = KMeans(n_clusters=k)\n",
    "        kmeans.fit(X)     \n",
    "\n",
    "        distortions.append(sum(np.min(cdist(X, kmeans.cluster_centers_, \n",
    "                          'euclidean'),axis=1)) / X.shape[0]) \n",
    "        inertias.append(kmeans.inertia_) \n",
    "\n",
    "        mapping1[k] = sum(np.min(cdist(X, kmeans.cluster_centers_, \n",
    "                     'euclidean'),axis=1)) / X.shape[0] \n",
    "        mapping2[k] = kmeans.inertia_ \n",
    "\n",
    "    print(\"Distortion\")\n",
    "    for key,val in mapping1.items(): \n",
    "        print(str(key)+' : '+str(val)) \n",
    "\n",
    "    print(\"Inertia\")\n",
    "    for key,val in mapping2.items(): \n",
    "        print(str(key)+' : '+str(val)) \n",
    "\n",
    "    plt.plot(K, distortions, 'bx-',color=custom_colors[3]) \n",
    "    plt.xlabel('Values of K') \n",
    "    plt.ylabel('Distortion') \n",
    "    plt.xticks(K)\n",
    "    plt.title('Elbow Method using Distortion') \n",
    "    plt.show() \n",
    "\n",
    "    plt.plot(K, inertias, 'bx-',color=custom_colors[4]) \n",
    "    plt.xlabel('Values of K') \n",
    "    plt.ylabel('Inertia') \n",
    "    plt.xticks(K)\n",
    "    plt.title('Elbow Method using Inertia') \n",
    "    plt.show() "
   ]
  },
  {
   "cell_type": "code",
   "execution_count": 20,
   "metadata": {
    "execution": {
     "iopub.execute_input": "2022-11-06T12:48:23.707078Z",
     "iopub.status.busy": "2022-11-06T12:48:23.706047Z",
     "iopub.status.idle": "2022-11-06T12:48:24.236929Z",
     "shell.execute_reply": "2022-11-06T12:48:24.236354Z"
    },
    "papermill": {
     "duration": 0.57684,
     "end_time": "2022-11-06T12:48:24.237045",
     "exception": false,
     "start_time": "2022-11-06T12:48:23.660205",
     "status": "completed"
    },
    "tags": []
   },
   "outputs": [
    {
     "name": "stdout",
     "output_type": "stream",
     "text": [
      "Distortion\n",
      "2 : 373.7675670507112\n",
      "3 : 220.55246141798668\n",
      "4 : 161.56215104490275\n",
      "5 : 128.79189157004683\n",
      "6 : 105.18459997805162\n",
      "7 : 92.56098674557762\n",
      "8 : 82.68223677986197\n",
      "9 : 68.68341536344919\n",
      "Inertia\n",
      "2 : 27964964.465512753\n",
      "3 : 13873508.04033103\n",
      "4 : 5512937.505840904\n",
      "5 : 3505558.5424463726\n",
      "6 : 2707068.468549997\n",
      "7 : 1910696.9009444402\n",
      "8 : 1282211.1909693487\n",
      "9 : 906374.8747559212\n"
     ]
    },
    {
     "data": {
      "image/png": "[encoded data removed]",
      "text/plain": [
       "<Figure size 432x288 with 1 Axes>"
      ]
     },
     "metadata": {
      "needs_background": "light"
     },
     "output_type": "display_data"
    },
    {
     "data": {
      "image/png": "[encoded data removed]",
      "text/plain": [
       "<Figure size 432x288 with 1 Axes>"
      ]
     },
     "metadata": {
      "needs_background": "light"
     },
     "output_type": "display_data"
    }
   ],
   "source": [
    "elbow_method(batsmen[[\"Strike_Rate\", \"Runs\"]])"
   ]
  },
  {
   "cell_type": "code",
   "execution_count": 21,
   "metadata": {
    "execution": {
     "iopub.execute_input": "2022-11-06T12:48:24.334494Z",
     "iopub.status.busy": "2022-11-06T12:48:24.333648Z",
     "iopub.status.idle": "2022-11-06T12:48:24.336670Z",
     "shell.execute_reply": "2022-11-06T12:48:24.336140Z"
    },
    "papermill": {
     "duration": 0.054675,
     "end_time": "2022-11-06T12:48:24.336815",
     "exception": false,
     "start_time": "2022-11-06T12:48:24.282140",
     "status": "completed"
    },
    "tags": []
   },
   "outputs": [],
   "source": [
    "def scores(X):\n",
    "    K = range(3,8) \n",
    "\n",
    "    for k in K:  \n",
    "        kmeans = KMeans(n_clusters=k)\n",
    "        kmeans.fit(X) \n",
    "        y_hat = kmeans.predict(X)\n",
    "        labels = kmeans.labels_\n",
    "        \n",
    "        a = metrics.silhouette_score(X, labels, metric = 'euclidean')\n",
    "        b = metrics.calinski_harabasz_score(X, labels)\n",
    "        \n",
    "        print(\"k={0}, Silhouette score={1}, Calinski harabasz score={2}\".format(k,a, b))"
   ]
  },
  {
   "cell_type": "code",
   "execution_count": 22,
   "metadata": {
    "execution": {
     "iopub.execute_input": "2022-11-06T12:48:24.437294Z",
     "iopub.status.busy": "2022-11-06T12:48:24.435172Z",
     "iopub.status.idle": "2022-11-06T12:48:24.632140Z",
     "shell.execute_reply": "2022-11-06T12:48:24.632701Z"
    },
    "papermill": {
     "duration": 0.251233,
     "end_time": "2022-11-06T12:48:24.632876",
     "exception": false,
     "start_time": "2022-11-06T12:48:24.381643",
     "status": "completed"
    },
    "tags": []
   },
   "outputs": [
    {
     "name": "stdout",
     "output_type": "stream",
     "text": [
      "k=3, Silhouette score=0.6936083344492991, Calinski harabasz score=609.1041885568557\n",
      "k=4, Silhouette score=0.7153226890295874, Calinski harabasz score=1079.804486795056\n",
      "k=5, Silhouette score=0.6643845661980747, Calinski harabasz score=1282.26794241417\n",
      "k=6, Silhouette score=0.635199608948108, Calinski harabasz score=1325.6470180841923\n",
      "k=7, Silhouette score=0.6157390032752879, Calinski harabasz score=1476.7130689829771\n"
     ]
    }
   ],
   "source": [
    "scores(batsmen[[\"Strike_Rate\", \"Runs\"]])"
   ]
  },
  {
   "cell_type": "code",
   "execution_count": 23,
   "metadata": {
    "execution": {
     "iopub.execute_input": "2022-11-06T12:48:24.742377Z",
     "iopub.status.busy": "2022-11-06T12:48:24.741495Z",
     "iopub.status.idle": "2022-11-06T12:48:24.947148Z",
     "shell.execute_reply": "2022-11-06T12:48:24.945875Z"
    },
    "executionInfo": {
     "elapsed": 4508,
     "status": "ok",
     "timestamp": 1596356838299,
     "user": {
      "displayName": "RUCHI BHATIA",
      "photoUrl": "",
      "userId": "04469733066996764193"
     },
     "user_tz": -330
    },
    "id": "3WBox7ln2sKi",
    "outputId": "67bd8c62-4fea-4300-9eeb-f9d202e281b6",
    "papermill": {
     "duration": 0.26735,
     "end_time": "2022-11-06T12:48:24.947292",
     "exception": false,
     "start_time": "2022-11-06T12:48:24.679942",
     "status": "completed"
    },
    "tags": []
   },
   "outputs": [
    {
     "data": {
      "image/png": "[encoded data removed]",
      "text/plain": [
       "<Figure size 864x432 with 1 Axes>"
      ]
     },
     "metadata": {
      "needs_background": "light"
     },
     "output_type": "display_data"
    }
   ],
   "source": [
    "kmeans = KMeans(n_clusters=4)\n",
    "kmeans.fit(batsmen[[\"Strike_Rate\", \"Runs\"]])\n",
    "batsmen[\"cluster\"] = kmeans.labels_\n",
    "\n",
    "fig = plt.figure(figsize=(12,6))\n",
    "\n",
    "colors = custom_colors\n",
    "\n",
    "for r in range(1,6):\n",
    "    clustered_Batsmen = batsmen[batsmen[\"cluster\"] == r]\n",
    "    plt.scatter(clustered_Batsmen[\"Strike_Rate\"], clustered_Batsmen[\"Runs\"], color=colors[r-1])\n",
    "    \n",
    "plt.title(\"IPL Batsmen\")\n",
    "plt.xlabel(\"Strike Rate of the Batsmen\")\n",
    "plt.ylabel(\"Runs scored by the Batsmen\")\n",
    "plt.show()"
   ]
  },
  {
   "cell_type": "code",
   "execution_count": 24,
   "metadata": {
    "execution": {
     "iopub.execute_input": "2022-11-06T12:48:25.049861Z",
     "iopub.status.busy": "2022-11-06T12:48:25.048956Z",
     "iopub.status.idle": "2022-11-06T12:48:25.051550Z",
     "shell.execute_reply": "2022-11-06T12:48:25.051061Z"
    },
    "executionInfo": {
     "elapsed": 4502,
     "status": "ok",
     "timestamp": 1596356838300,
     "user": {
      "displayName": "RUCHI BHATIA",
      "photoUrl": "",
      "userId": "04469733066996764193"
     },
     "user_tz": -330
    },
    "id": "GIKcJx_l2sKm",
    "outputId": "baf3eb8a-d5e8-488b-caa3-f52546ae4303",
    "papermill": {
     "duration": 0.056364,
     "end_time": "2022-11-06T12:48:25.051677",
     "exception": false,
     "start_time": "2022-11-06T12:48:24.995313",
     "status": "completed"
    },
    "tags": []
   },
   "outputs": [],
   "source": [
    "batsmen = batsmen.sort_values(by='cluster')"
   ]
  },
  {
   "cell_type": "code",
   "execution_count": 25,
   "metadata": {
    "execution": {
     "iopub.execute_input": "2022-11-06T12:48:25.151001Z",
     "iopub.status.busy": "2022-11-06T12:48:25.150240Z",
     "iopub.status.idle": "2022-11-06T12:48:25.154192Z",
     "shell.execute_reply": "2022-11-06T12:48:25.154651Z"
    },
    "executionInfo": {
     "elapsed": 4497,
     "status": "ok",
     "timestamp": 1596356838300,
     "user": {
      "displayName": "RUCHI BHATIA",
      "photoUrl": "",
      "userId": "04469733066996764193"
     },
     "user_tz": -330
    },
    "id": "ECtB5wqnLWQr",
    "papermill": {
     "duration": 0.057358,
     "end_time": "2022-11-06T12:48:25.154858",
     "exception": false,
     "start_time": "2022-11-06T12:48:25.097500",
     "status": "completed"
    },
    "tags": []
   },
   "outputs": [],
   "source": [
    "Players_batsmen = players[[\"Player_Id\", \"Player_Name\",\"Batting_Hand\",\"DOB\",\"Country\"]]"
   ]
  },
  {
   "cell_type": "markdown",
   "metadata": {
    "id": "UKuV3Cs8X4cI",
    "papermill": {
     "duration": 0.045873,
     "end_time": "2022-11-06T12:48:25.247130",
     "exception": false,
     "start_time": "2022-11-06T12:48:25.201257",
     "status": "completed"
    },
    "tags": []
   },
   "source": [
    "Displaying the Batting Hand of Batsmen"
   ]
  },
  {
   "cell_type": "code",
   "execution_count": 26,
   "metadata": {
    "execution": {
     "iopub.execute_input": "2022-11-06T12:48:25.349497Z",
     "iopub.status.busy": "2022-11-06T12:48:25.348228Z",
     "iopub.status.idle": "2022-11-06T12:48:25.376182Z",
     "shell.execute_reply": "2022-11-06T12:48:25.375643Z"
    },
    "executionInfo": {
     "elapsed": 4487,
     "status": "ok",
     "timestamp": 1596356838301,
     "user": {
      "displayName": "RUCHI BHATIA",
      "photoUrl": "",
      "userId": "04469733066996764193"
     },
     "user_tz": -330
    },
    "id": "letjLnJ0BM5f",
    "outputId": "00821e12-9925-44d9-cb63-2021de4ff3d3",
    "papermill": {
     "duration": 0.082978,
     "end_time": "2022-11-06T12:48:25.376305",
     "exception": false,
     "start_time": "2022-11-06T12:48:25.293327",
     "status": "completed"
    },
    "tags": []
   },
   "outputs": [
    {
     "data": {
      "text/html": [
       "<div>\n",
       "<style scoped>\n",
       "    .dataframe tbody tr th:only-of-type {\n",
       "        vertical-align: middle;\n",
       "    }\n",
       "\n",
       "    .dataframe tbody tr th {\n",
       "        vertical-align: top;\n",
       "    }\n",
       "\n",
       "    .dataframe thead th {\n",
       "        text-align: right;\n",
       "    }\n",
       "</style>\n",
       "<table border=\"1\" class=\"dataframe\">\n",
       "  <thead>\n",
       "    <tr style=\"text-align: right;\">\n",
       "      <th></th>\n",
       "      <th>Player_Id</th>\n",
       "      <th>Runs</th>\n",
       "      <th>Balls_played</th>\n",
       "      <th>Strike_Rate</th>\n",
       "      <th>cluster</th>\n",
       "      <th>Player_Name</th>\n",
       "      <th>Batting_Hand</th>\n",
       "      <th>DOB</th>\n",
       "      <th>Country</th>\n",
       "    </tr>\n",
       "  </thead>\n",
       "  <tbody>\n",
       "    <tr>\n",
       "      <th>0</th>\n",
       "      <td>433</td>\n",
       "      <td>24.0</td>\n",
       "      <td>15</td>\n",
       "      <td>160.00</td>\n",
       "      <td>0</td>\n",
       "      <td>ER Dwivedi</td>\n",
       "      <td>Right_Hand</td>\n",
       "      <td>22-Jul-88</td>\n",
       "      <td>India</td>\n",
       "    </tr>\n",
       "    <tr>\n",
       "      <th>1</th>\n",
       "      <td>230</td>\n",
       "      <td>181.0</td>\n",
       "      <td>143</td>\n",
       "      <td>126.57</td>\n",
       "      <td>0</td>\n",
       "      <td>AC Voges</td>\n",
       "      <td>Right_Hand</td>\n",
       "      <td>4-Oct-79</td>\n",
       "      <td>Australia</td>\n",
       "    </tr>\n",
       "    <tr>\n",
       "      <th>2</th>\n",
       "      <td>228</td>\n",
       "      <td>156.0</td>\n",
       "      <td>99</td>\n",
       "      <td>157.58</td>\n",
       "      <td>0</td>\n",
       "      <td>Bipul Sharma</td>\n",
       "      <td>Left_Hand</td>\n",
       "      <td>28-Sep-83</td>\n",
       "      <td>India</td>\n",
       "    </tr>\n",
       "    <tr>\n",
       "      <th>3</th>\n",
       "      <td>226</td>\n",
       "      <td>37.0</td>\n",
       "      <td>29</td>\n",
       "      <td>127.59</td>\n",
       "      <td>0</td>\n",
       "      <td>S Narwal</td>\n",
       "      <td>Left_Hand</td>\n",
       "      <td>16-Apr-82</td>\n",
       "      <td>India</td>\n",
       "    </tr>\n",
       "    <tr>\n",
       "      <th>4</th>\n",
       "      <td>224</td>\n",
       "      <td>278.0</td>\n",
       "      <td>198</td>\n",
       "      <td>140.40</td>\n",
       "      <td>0</td>\n",
       "      <td>MJ Lumb</td>\n",
       "      <td>Left_Hand</td>\n",
       "      <td>12-Feb-80</td>\n",
       "      <td>England</td>\n",
       "    </tr>\n",
       "    <tr>\n",
       "      <th>...</th>\n",
       "      <td>...</td>\n",
       "      <td>...</td>\n",
       "      <td>...</td>\n",
       "      <td>...</td>\n",
       "      <td>...</td>\n",
       "      <td>...</td>\n",
       "      <td>...</td>\n",
       "      <td>...</td>\n",
       "      <td>...</td>\n",
       "    </tr>\n",
       "    <tr>\n",
       "      <th>129</th>\n",
       "      <td>158</td>\n",
       "      <td>1001.0</td>\n",
       "      <td>758</td>\n",
       "      <td>132.06</td>\n",
       "      <td>3</td>\n",
       "      <td>KP Pietersen</td>\n",
       "      <td>Right_Hand</td>\n",
       "      <td>27-Jun-80</td>\n",
       "      <td>South Africa</td>\n",
       "    </tr>\n",
       "    <tr>\n",
       "      <th>130</th>\n",
       "      <td>157</td>\n",
       "      <td>604.0</td>\n",
       "      <td>466</td>\n",
       "      <td>129.61</td>\n",
       "      <td>3</td>\n",
       "      <td>JD Ryder</td>\n",
       "      <td>Left_Hand</td>\n",
       "      <td>6-Aug-84</td>\n",
       "      <td>New Zealand</td>\n",
       "    </tr>\n",
       "    <tr>\n",
       "      <th>131</th>\n",
       "      <td>306</td>\n",
       "      <td>1241.0</td>\n",
       "      <td>933</td>\n",
       "      <td>133.01</td>\n",
       "      <td>3</td>\n",
       "      <td>SPD Smith</td>\n",
       "      <td>Right_Hand</td>\n",
       "      <td>2-Jun-89</td>\n",
       "      <td>India</td>\n",
       "    </tr>\n",
       "    <tr>\n",
       "      <th>132</th>\n",
       "      <td>345</td>\n",
       "      <td>728.0</td>\n",
       "      <td>580</td>\n",
       "      <td>125.52</td>\n",
       "      <td>3</td>\n",
       "      <td>M Vohra</td>\n",
       "      <td>Right_Hand</td>\n",
       "      <td>18-Jul-93</td>\n",
       "      <td>India</td>\n",
       "    </tr>\n",
       "    <tr>\n",
       "      <th>133</th>\n",
       "      <td>236</td>\n",
       "      <td>924.0</td>\n",
       "      <td>760</td>\n",
       "      <td>121.58</td>\n",
       "      <td>3</td>\n",
       "      <td>Mandeep Singh</td>\n",
       "      <td>Right_Hand</td>\n",
       "      <td>18-Dec-91</td>\n",
       "      <td>India</td>\n",
       "    </tr>\n",
       "  </tbody>\n",
       "</table>\n",
       "<p>134 rows × 9 columns</p>\n",
       "</div>"
      ],
      "text/plain": [
       "     Player_Id    Runs  Balls_played  Strike_Rate  cluster    Player_Name  \\\n",
       "0          433    24.0            15       160.00        0     ER Dwivedi   \n",
       "1          230   181.0           143       126.57        0       AC Voges   \n",
       "2          228   156.0            99       157.58        0   Bipul Sharma   \n",
       "3          226    37.0            29       127.59        0       S Narwal   \n",
       "4          224   278.0           198       140.40        0        MJ Lumb   \n",
       "..         ...     ...           ...          ...      ...            ...   \n",
       "129        158  1001.0           758       132.06        3   KP Pietersen   \n",
       "130        157   604.0           466       129.61        3       JD Ryder   \n",
       "131        306  1241.0           933       133.01        3      SPD Smith   \n",
       "132        345   728.0           580       125.52        3        M Vohra   \n",
       "133        236   924.0           760       121.58        3  Mandeep Singh   \n",
       "\n",
       "    Batting_Hand        DOB       Country  \n",
       "0     Right_Hand  22-Jul-88         India  \n",
       "1     Right_Hand   4-Oct-79     Australia  \n",
       "2      Left_Hand  28-Sep-83         India  \n",
       "3      Left_Hand  16-Apr-82         India  \n",
       "4      Left_Hand  12-Feb-80       England  \n",
       "..           ...        ...           ...  \n",
       "129   Right_Hand  27-Jun-80  South Africa  \n",
       "130    Left_Hand   6-Aug-84   New Zealand  \n",
       "131   Right_Hand   2-Jun-89         India  \n",
       "132   Right_Hand  18-Jul-93         India  \n",
       "133   Right_Hand  18-Dec-91         India  \n",
       "\n",
       "[134 rows x 9 columns]"
      ]
     },
     "execution_count": 26,
     "metadata": {},
     "output_type": "execute_result"
    }
   ],
   "source": [
    "batsmen = batsmen[batsmen.columns].merge(Players_batsmen, \"left\")\n",
    "batsmen"
   ]
  },
  {
   "cell_type": "markdown",
   "metadata": {
    "id": "R0sIAEk01Cig",
    "papermill": {
     "duration": 0.04689,
     "end_time": "2022-11-06T12:48:25.470608",
     "exception": false,
     "start_time": "2022-11-06T12:48:25.423718",
     "status": "completed"
    },
    "tags": []
   },
   "source": [
    "**Batting Hand and Cluster assigned to players**"
   ]
  },
  {
   "cell_type": "code",
   "execution_count": 27,
   "metadata": {
    "execution": {
     "iopub.execute_input": "2022-11-06T12:48:25.569418Z",
     "iopub.status.busy": "2022-11-06T12:48:25.568815Z",
     "iopub.status.idle": "2022-11-06T12:48:26.560027Z",
     "shell.execute_reply": "2022-11-06T12:48:26.560563Z"
    },
    "papermill": {
     "duration": 1.042746,
     "end_time": "2022-11-06T12:48:26.560712",
     "exception": false,
     "start_time": "2022-11-06T12:48:25.517966",
     "status": "completed"
    },
    "tags": []
   },
   "outputs": [
    {
     "data": {
      "text/html": [
       "        <script type=\"text/javascript\">\n",
       "        window.PlotlyConfig = {MathJaxConfig: 'local'};\n",
       "        if (window.MathJax) {MathJax.Hub.Config({SVG: {font: \"STIX-Web\"}});}\n",
       "        if (typeof require !== 'undefined') {\n",
       "        require.undef(\"plotly\");\n",
       "        requirejs.config({\n",
       "            paths: {\n",
       "                'plotly': ['https://cdn.plot.ly/plotly-latest.min']\n",
       "            }\n",
       "        });\n",
       "        require(['plotly'], function(Plotly) {\n",
       "            window._Plotly = Plotly;\n",
       "        });\n",
       "        }\n",
       "        </script>\n",
       "        "
      ]
     },
     "metadata": {},
     "output_type": "display_data"
    },
    {
     "data": {
      "text/html": [
       "<div>\n",
       "        \n",
       "        \n",
       "            <div id=\"58ac5075-b05a-48eb-a22b-6c8154715306\" class=\"plotly-graph-div\" style=\"height:525px; width:100%;\"></div>\n",
       "            <script type=\"text/javascript\">\n",
       "                require([\"plotly\"], function(Plotly) {\n",
       "                    window.PLOTLYENV=window.PLOTLYENV || {};\n",
       "                    \n",
       "                if (document.getElementById(\"58ac5075-b05a-48eb-a22b-6c8154715306\")) {\n",
       "                    Plotly.newPlot(\n",
       "                        '58ac5075-b05a-48eb-a22b-6c8154715306',\n",
       "                        [{\"branchvalues\": \"total\", \"customdata\": [[0.0], [0.0], [1.0], [1.0], [2.0], [2.0], [3.0], [3.0], [0.75], [1.0106382978723405]], \"domain\": {\"x\": [0.0, 1.0], \"y\": [0.0, 1.0]}, \"hovertemplate\": \"labels=%{label}<br>count=%{value}<br>parent=%{parent}<br>id=%{id}<br>cluster=%{color}<extra></extra>\", \"ids\": [\"Left_Hand/0\", \"Right_Hand/0\", \"Left_Hand/1\", \"Right_Hand/1\", \"Left_Hand/2\", \"Right_Hand/2\", \"Left_Hand/3\", \"Right_Hand/3\", \"Left_Hand\", \"Right_Hand\"], \"labels\": [\"0\", \"0\", \"1\", \"1\", \"2\", \"2\", \"3\", \"3\", \"Left_Hand\", \"Right_Hand\"], \"marker\": {\"coloraxis\": \"coloraxis\", \"colors\": [0.0, 0.0, 1.0, 1.0, 2.0, 2.0, 3.0, 3.0, 0.75, 1.0106382978723405]}, \"name\": \"\", \"parents\": [\"Left_Hand\", \"Right_Hand\", \"Left_Hand\", \"Right_Hand\", \"Left_Hand\", \"Right_Hand\", \"Left_Hand\", \"Right_Hand\", \"\", \"\"], \"type\": \"sunburst\", \"values\": [26, 56, 4, 5, 4, 9, 6, 24, 40, 94]}],\n",
       "                        {\"coloraxis\": {\"colorbar\": {\"title\": {\"text\": \"cluster\"}}, \"colorscale\": [[0.0, \"#0d0887\"], [0.1111111111111111, \"#46039f\"], [0.2222222222222222, \"#7201a8\"], [0.3333333333333333, \"#9c179e\"], [0.4444444444444444, \"#bd3786\"], [0.5555555555555556, \"#d8576b\"], [0.6666666666666666, \"#ed7953\"], [0.7777777777777778, \"#fb9f3a\"], [0.8888888888888888, \"#fdca26\"], [1.0, \"#f0f921\"]]}, \"legend\": {\"tracegroupgap\": 0}, \"margin\": {\"t\": 60}, \"template\": {\"data\": {\"bar\": [{\"error_x\": {\"color\": \"#2a3f5f\"}, \"error_y\": {\"color\": \"#2a3f5f\"}, \"marker\": {\"line\": {\"color\": \"#E5ECF6\", \"width\": 0.5}}, \"type\": \"bar\"}], \"barpolar\": [{\"marker\": {\"line\": {\"color\": \"#E5ECF6\", \"width\": 0.5}}, \"type\": \"barpolar\"}], \"carpet\": [{\"aaxis\": {\"endlinecolor\": \"#2a3f5f\", \"gridcolor\": \"white\", \"linecolor\": \"white\", \"minorgridcolor\": \"white\", \"startlinecolor\": \"#2a3f5f\"}, \"baxis\": {\"endlinecolor\": \"#2a3f5f\", \"gridcolor\": \"white\", \"linecolor\": \"white\", \"minorgridcolor\": \"white\", \"startlinecolor\": \"#2a3f5f\"}, \"type\": \"carpet\"}], \"choropleth\": [{\"colorbar\": {\"outlinewidth\": 0, \"ticks\": \"\"}, \"type\": \"choropleth\"}], \"contour\": [{\"colorbar\": {\"outlinewidth\": 0, \"ticks\": \"\"}, \"colorscale\": [[0.0, \"#0d0887\"], [0.1111111111111111, \"#46039f\"], [0.2222222222222222, \"#7201a8\"], [0.3333333333333333, \"#9c179e\"], [0.4444444444444444, \"#bd3786\"], [0.5555555555555556, \"#d8576b\"], [0.6666666666666666, \"#ed7953\"], [0.7777777777777778, \"#fb9f3a\"], [0.8888888888888888, \"#fdca26\"], [1.0, \"#f0f921\"]], \"type\": \"contour\"}], \"contourcarpet\": [{\"colorbar\": {\"outlinewidth\": 0, \"ticks\": \"\"}, \"type\": \"contourcarpet\"}], \"heatmap\": [{\"colorbar\": {\"outlinewidth\": 0, \"ticks\": \"\"}, \"colorscale\": [[0.0, \"#0d0887\"], [0.1111111111111111, \"#46039f\"], [0.2222222222222222, \"#7201a8\"], [0.3333333333333333, \"#9c179e\"], [0.4444444444444444, \"#bd3786\"], [0.5555555555555556, \"#d8576b\"], [0.6666666666666666, \"#ed7953\"], [0.7777777777777778, \"#fb9f3a\"], [0.8888888888888888, \"#fdca26\"], [1.0, \"#f0f921\"]], \"type\": \"heatmap\"}], \"heatmapgl\": [{\"colorbar\": {\"outlinewidth\": 0, \"ticks\": \"\"}, \"colorscale\": [[0.0, \"#0d0887\"], [0.1111111111111111, \"#46039f\"], [0.2222222222222222, \"#7201a8\"], [0.3333333333333333, \"#9c179e\"], [0.4444444444444444, \"#bd3786\"], [0.5555555555555556, \"#d8576b\"], [0.6666666666666666, \"#ed7953\"], [0.7777777777777778, \"#fb9f3a\"], [0.8888888888888888, \"#fdca26\"], [1.0, \"#f0f921\"]], \"type\": \"heatmapgl\"}], \"histogram\": [{\"marker\": {\"colorbar\": {\"outlinewidth\": 0, \"ticks\": \"\"}}, \"type\": \"histogram\"}], \"histogram2d\": [{\"colorbar\": {\"outlinewidth\": 0, \"ticks\": \"\"}, \"colorscale\": [[0.0, \"#0d0887\"], [0.1111111111111111, \"#46039f\"], [0.2222222222222222, \"#7201a8\"], [0.3333333333333333, \"#9c179e\"], [0.4444444444444444, \"#bd3786\"], [0.5555555555555556, \"#d8576b\"], [0.6666666666666666, \"#ed7953\"], [0.7777777777777778, \"#fb9f3a\"], [0.8888888888888888, \"#fdca26\"], [1.0, \"#f0f921\"]], \"type\": \"histogram2d\"}], \"histogram2dcontour\": [{\"colorbar\": {\"outlinewidth\": 0, \"ticks\": \"\"}, \"colorscale\": [[0.0, \"#0d0887\"], [0.1111111111111111, \"#46039f\"], [0.2222222222222222, \"#7201a8\"], [0.3333333333333333, \"#9c179e\"], [0.4444444444444444, \"#bd3786\"], [0.5555555555555556, \"#d8576b\"], [0.6666666666666666, \"#ed7953\"], [0.7777777777777778, \"#fb9f3a\"], [0.8888888888888888, \"#fdca26\"], [1.0, \"#f0f921\"]], \"type\": \"histogram2dcontour\"}], \"mesh3d\": [{\"colorbar\": {\"outlinewidth\": 0, \"ticks\": \"\"}, \"type\": \"mesh3d\"}], \"parcoords\": [{\"line\": {\"colorbar\": {\"outlinewidth\": 0, \"ticks\": \"\"}}, \"type\": \"parcoords\"}], \"pie\": [{\"automargin\": true, \"type\": \"pie\"}], \"scatter\": [{\"marker\": {\"colorbar\": {\"outlinewidth\": 0, \"ticks\": \"\"}}, \"type\": \"scatter\"}], \"scatter3d\": [{\"line\": {\"colorbar\": {\"outlinewidth\": 0, \"ticks\": \"\"}}, \"marker\": {\"colorbar\": {\"outlinewidth\": 0, \"ticks\": \"\"}}, \"type\": \"scatter3d\"}], \"scattercarpet\": [{\"marker\": {\"colorbar\": {\"outlinewidth\": 0, \"ticks\": \"\"}}, \"type\": \"scattercarpet\"}], \"scattergeo\": [{\"marker\": {\"colorbar\": {\"outlinewidth\": 0, \"ticks\": \"\"}}, \"type\": \"scattergeo\"}], \"scattergl\": [{\"marker\": {\"colorbar\": {\"outlinewidth\": 0, \"ticks\": \"\"}}, \"type\": \"scattergl\"}], \"scattermapbox\": [{\"marker\": {\"colorbar\": {\"outlinewidth\": 0, \"ticks\": \"\"}}, \"type\": \"scattermapbox\"}], \"scatterpolar\": [{\"marker\": {\"colorbar\": {\"outlinewidth\": 0, \"ticks\": \"\"}}, \"type\": \"scatterpolar\"}], \"scatterpolargl\": [{\"marker\": {\"colorbar\": {\"outlinewidth\": 0, \"ticks\": \"\"}}, \"type\": \"scatterpolargl\"}], \"scatterternary\": [{\"marker\": {\"colorbar\": {\"outlinewidth\": 0, \"ticks\": \"\"}}, \"type\": \"scatterternary\"}], \"surface\": [{\"colorbar\": {\"outlinewidth\": 0, \"ticks\": \"\"}, \"colorscale\": [[0.0, \"#0d0887\"], [0.1111111111111111, \"#46039f\"], [0.2222222222222222, \"#7201a8\"], [0.3333333333333333, \"#9c179e\"], [0.4444444444444444, \"#bd3786\"], [0.5555555555555556, \"#d8576b\"], [0.6666666666666666, \"#ed7953\"], [0.7777777777777778, \"#fb9f3a\"], [0.8888888888888888, \"#fdca26\"], [1.0, \"#f0f921\"]], \"type\": \"surface\"}], \"table\": [{\"cells\": {\"fill\": {\"color\": \"#EBF0F8\"}, \"line\": {\"color\": \"white\"}}, \"header\": {\"fill\": {\"color\": \"#C8D4E3\"}, \"line\": {\"color\": \"white\"}}, \"type\": \"table\"}]}, \"layout\": {\"annotationdefaults\": {\"arrowcolor\": \"#2a3f5f\", \"arrowhead\": 0, \"arrowwidth\": 1}, \"coloraxis\": {\"colorbar\": {\"outlinewidth\": 0, \"ticks\": \"\"}}, \"colorscale\": {\"diverging\": [[0, \"#8e0152\"], [0.1, \"#c51b7d\"], [0.2, \"#de77ae\"], [0.3, \"#f1b6da\"], [0.4, \"#fde0ef\"], [0.5, \"#f7f7f7\"], [0.6, \"#e6f5d0\"], [0.7, \"#b8e186\"], [0.8, \"#7fbc41\"], [0.9, \"#4d9221\"], [1, \"#276419\"]], \"sequential\": [[0.0, \"#0d0887\"], [0.1111111111111111, \"#46039f\"], [0.2222222222222222, \"#7201a8\"], [0.3333333333333333, \"#9c179e\"], [0.4444444444444444, \"#bd3786\"], [0.5555555555555556, \"#d8576b\"], [0.6666666666666666, \"#ed7953\"], [0.7777777777777778, \"#fb9f3a\"], [0.8888888888888888, \"#fdca26\"], [1.0, \"#f0f921\"]], \"sequentialminus\": [[0.0, \"#0d0887\"], [0.1111111111111111, \"#46039f\"], [0.2222222222222222, \"#7201a8\"], [0.3333333333333333, \"#9c179e\"], [0.4444444444444444, \"#bd3786\"], [0.5555555555555556, \"#d8576b\"], [0.6666666666666666, \"#ed7953\"], [0.7777777777777778, \"#fb9f3a\"], [0.8888888888888888, \"#fdca26\"], [1.0, \"#f0f921\"]]}, \"colorway\": [\"#636efa\", \"#EF553B\", \"#00cc96\", \"#ab63fa\", \"#FFA15A\", \"#19d3f3\", \"#FF6692\", \"#B6E880\", \"#FF97FF\", \"#FECB52\"], \"font\": {\"color\": \"#2a3f5f\"}, \"geo\": {\"bgcolor\": \"white\", \"lakecolor\": \"white\", \"landcolor\": \"#E5ECF6\", \"showlakes\": true, \"showland\": true, \"subunitcolor\": \"white\"}, \"hoverlabel\": {\"align\": \"left\"}, \"hovermode\": \"closest\", \"mapbox\": {\"style\": \"light\"}, \"paper_bgcolor\": \"white\", \"plot_bgcolor\": \"#E5ECF6\", \"polar\": {\"angularaxis\": {\"gridcolor\": \"white\", \"linecolor\": \"white\", \"ticks\": \"\"}, \"bgcolor\": \"#E5ECF6\", \"radialaxis\": {\"gridcolor\": \"white\", \"linecolor\": \"white\", \"ticks\": \"\"}}, \"scene\": {\"xaxis\": {\"backgroundcolor\": \"#E5ECF6\", \"gridcolor\": \"white\", \"gridwidth\": 2, \"linecolor\": \"white\", \"showbackground\": true, \"ticks\": \"\", \"zerolinecolor\": \"white\"}, \"yaxis\": {\"backgroundcolor\": \"#E5ECF6\", \"gridcolor\": \"white\", \"gridwidth\": 2, \"linecolor\": \"white\", \"showbackground\": true, \"ticks\": \"\", \"zerolinecolor\": \"white\"}, \"zaxis\": {\"backgroundcolor\": \"#E5ECF6\", \"gridcolor\": \"white\", \"gridwidth\": 2, \"linecolor\": \"white\", \"showbackground\": true, \"ticks\": \"\", \"zerolinecolor\": \"white\"}}, \"shapedefaults\": {\"line\": {\"color\": \"#2a3f5f\"}}, \"ternary\": {\"aaxis\": {\"gridcolor\": \"white\", \"linecolor\": \"white\", \"ticks\": \"\"}, \"baxis\": {\"gridcolor\": \"white\", \"linecolor\": \"white\", \"ticks\": \"\"}, \"bgcolor\": \"#E5ECF6\", \"caxis\": {\"gridcolor\": \"white\", \"linecolor\": \"white\", \"ticks\": \"\"}}, \"title\": {\"x\": 0.05}, \"xaxis\": {\"automargin\": true, \"gridcolor\": \"white\", \"linecolor\": \"white\", \"ticks\": \"\", \"title\": {\"standoff\": 15}, \"zerolinecolor\": \"white\", \"zerolinewidth\": 2}, \"yaxis\": {\"automargin\": true, \"gridcolor\": \"white\", \"linecolor\": \"white\", \"ticks\": \"\", \"title\": {\"standoff\": 15}, \"zerolinecolor\": \"white\", \"zerolinewidth\": 2}}}},\n",
       "                        {\"responsive\": true}\n",
       "                    ).then(function(){\n",
       "                            \n",
       "var gd = document.getElementById('58ac5075-b05a-48eb-a22b-6c8154715306');\n",
       "var x = new MutationObserver(function (mutations, observer) {{\n",
       "        var display = window.getComputedStyle(gd).display;\n",
       "        if (!display || display === 'none') {{\n",
       "            console.log([gd, 'removed!']);\n",
       "            Plotly.purge(gd);\n",
       "            observer.disconnect();\n",
       "        }}\n",
       "}});\n",
       "\n",
       "// Listen for the removal of the full notebook cells\n",
       "var notebookContainer = gd.closest('#notebook-container');\n",
       "if (notebookContainer) {{\n",
       "    x.observe(notebookContainer, {childList: true});\n",
       "}}\n",
       "\n",
       "// Listen for the clearing of the current output cell\n",
       "var outputEl = gd.closest('.output');\n",
       "if (outputEl) {{\n",
       "    x.observe(outputEl, {childList: true});\n",
       "}}\n",
       "\n",
       "                        })\n",
       "                };\n",
       "                });\n",
       "            </script>\n",
       "        </div>"
      ]
     },
     "metadata": {},
     "output_type": "display_data"
    }
   ],
   "source": [
    "fig = px.sunburst(batsmen, path=['Batting_Hand', 'cluster'],color='cluster')\n",
    "fig.show()"
   ]
  },
  {
   "cell_type": "code",
   "execution_count": 28,
   "metadata": {
    "execution": {
     "iopub.execute_input": "2022-11-06T12:48:26.712485Z",
     "iopub.status.busy": "2022-11-06T12:48:26.711461Z",
     "iopub.status.idle": "2022-11-06T12:48:26.949815Z",
     "shell.execute_reply": "2022-11-06T12:48:26.950468Z"
    },
    "executionInfo": {
     "elapsed": 4462,
     "status": "ok",
     "timestamp": 1596356838302,
     "user": {
      "displayName": "RUCHI BHATIA",
      "photoUrl": "",
      "userId": "04469733066996764193"
     },
     "user_tz": -330
    },
    "id": "RISPy2fXBcdf",
    "papermill": {
     "duration": 0.291282,
     "end_time": "2022-11-06T12:48:26.950621",
     "exception": false,
     "start_time": "2022-11-06T12:48:26.659339",
     "status": "completed"
    },
    "tags": []
   },
   "outputs": [],
   "source": [
    "batsmen.to_csv('/kaggle/working/Batsmen.csv') "
   ]
  },
  {
   "cell_type": "markdown",
   "metadata": {
    "id": "mTHvdWef2sKp",
    "papermill": {
     "duration": 0.057951,
     "end_time": "2022-11-06T12:48:27.056737",
     "exception": false,
     "start_time": "2022-11-06T12:48:26.998786",
     "status": "completed"
    },
    "tags": []
   },
   "source": [
    "### Bowlers"
   ]
  },
  {
   "cell_type": "markdown",
   "metadata": {
    "id": "mOK8X1FBYSUP",
    "papermill": {
     "duration": 0.04973,
     "end_time": "2022-11-06T12:48:27.157849",
     "exception": false,
     "start_time": "2022-11-06T12:48:27.108119",
     "status": "completed"
    },
    "tags": []
   },
   "source": [
    "> economy rate = total runs conceded/number of overs bowled"
   ]
  },
  {
   "cell_type": "code",
   "execution_count": 29,
   "metadata": {
    "execution": {
     "iopub.execute_input": "2022-11-06T12:48:27.261930Z",
     "iopub.status.busy": "2022-11-06T12:48:27.260914Z",
     "iopub.status.idle": "2022-11-06T12:48:28.136955Z",
     "shell.execute_reply": "2022-11-06T12:48:28.137531Z"
    },
    "executionInfo": {
     "elapsed": 4889,
     "status": "ok",
     "timestamp": 1596356838737,
     "user": {
      "displayName": "RUCHI BHATIA",
      "photoUrl": "",
      "userId": "04469733066996764193"
     },
     "user_tz": -330
    },
    "id": "urGjrOOz2sKq",
    "outputId": "4e604384-4daa-42de-ea80-da539f4ef3c5",
    "papermill": {
     "duration": 0.927063,
     "end_time": "2022-11-06T12:48:28.137680",
     "exception": false,
     "start_time": "2022-11-06T12:48:27.210617",
     "status": "completed"
    },
    "tags": []
   },
   "outputs": [
    {
     "data": {
      "text/html": [
       "<div>\n",
       "<style scoped>\n",
       "    .dataframe tbody tr th:only-of-type {\n",
       "        vertical-align: middle;\n",
       "    }\n",
       "\n",
       "    .dataframe tbody tr th {\n",
       "        vertical-align: top;\n",
       "    }\n",
       "\n",
       "    .dataframe thead th {\n",
       "        text-align: right;\n",
       "    }\n",
       "</style>\n",
       "<table border=\"1\" class=\"dataframe\">\n",
       "  <thead>\n",
       "    <tr style=\"text-align: right;\">\n",
       "      <th></th>\n",
       "      <th>Player_Id</th>\n",
       "      <th>Runs</th>\n",
       "      <th>Over_count</th>\n",
       "      <th>Econ_Rate</th>\n",
       "    </tr>\n",
       "  </thead>\n",
       "  <tbody>\n",
       "    <tr>\n",
       "      <th>0</th>\n",
       "      <td>14</td>\n",
       "      <td>3135.0</td>\n",
       "      <td>421.500000</td>\n",
       "      <td>7.44</td>\n",
       "    </tr>\n",
       "    <tr>\n",
       "      <th>1</th>\n",
       "      <td>15</td>\n",
       "      <td>2511.0</td>\n",
       "      <td>338.333333</td>\n",
       "      <td>7.42</td>\n",
       "    </tr>\n",
       "    <tr>\n",
       "      <th>2</th>\n",
       "      <td>13</td>\n",
       "      <td>41.0</td>\n",
       "      <td>4.166667</td>\n",
       "      <td>9.84</td>\n",
       "    </tr>\n",
       "    <tr>\n",
       "      <th>3</th>\n",
       "      <td>9</td>\n",
       "      <td>2316.0</td>\n",
       "      <td>299.833333</td>\n",
       "      <td>7.72</td>\n",
       "    </tr>\n",
       "    <tr>\n",
       "      <th>4</th>\n",
       "      <td>16</td>\n",
       "      <td>82.0</td>\n",
       "      <td>9.166667</td>\n",
       "      <td>8.95</td>\n",
       "    </tr>\n",
       "  </tbody>\n",
       "</table>\n",
       "</div>"
      ],
      "text/plain": [
       "   Player_Id    Runs  Over_count  Econ_Rate\n",
       "0         14  3135.0  421.500000       7.44\n",
       "1         15  2511.0  338.333333       7.42\n",
       "2         13    41.0    4.166667       9.84\n",
       "3          9  2316.0  299.833333       7.72\n",
       "4         16    82.0    9.166667       8.95"
      ]
     },
     "execution_count": 29,
     "metadata": {},
     "output_type": "execute_result"
    }
   ],
   "source": [
    "bowlers_runs = []\n",
    "bowlers_over_count = []\n",
    "\n",
    "for j in runs[\"Bowler_Id\"].unique():\n",
    "    r = runs[\"Batsman_Scored\"][runs[\"Bowler_Id\"] == j].sum() + runs[\"Extra_Runs\"][runs[\"Bowler_Id\"] == j].sum()\n",
    "    o = runs[\"Over_Id\"][runs[\"Bowler_Id\"] == j].count()/6\n",
    "    \n",
    "    bowlers_runs.append(r)\n",
    "    bowlers_over_count.append(o)\n",
    "    \n",
    "bowlers = pd.DataFrame({\"Player_Id\": runs[\"Bowler_Id\"].unique()})\n",
    "\n",
    "bowlers[\"Runs\"] = bowlers_runs\n",
    "bowlers[\"Over_count\"] = bowlers_over_count\n",
    "\n",
    "bowlers[\"Econ_Rate\"] = (bowlers[\"Runs\"] / bowlers[\"Over_count\"]).round(2)\n",
    "\n",
    "bowlers.head()"
   ]
  },
  {
   "cell_type": "code",
   "execution_count": 30,
   "metadata": {
    "execution": {
     "iopub.execute_input": "2022-11-06T12:48:28.246719Z",
     "iopub.status.busy": "2022-11-06T12:48:28.245646Z",
     "iopub.status.idle": "2022-11-06T12:48:28.959140Z",
     "shell.execute_reply": "2022-11-06T12:48:28.959647Z"
    },
    "executionInfo": {
     "elapsed": 5397,
     "status": "ok",
     "timestamp": 1596356839255,
     "user": {
      "displayName": "RUCHI BHATIA",
      "photoUrl": "",
      "userId": "04469733066996764193"
     },
     "user_tz": -330
    },
    "id": "Hphc8wb42sKu",
    "outputId": "0534c0d1-1594-4435-b82a-b2350ffed46e",
    "papermill": {
     "duration": 0.772712,
     "end_time": "2022-11-06T12:48:28.959819",
     "exception": false,
     "start_time": "2022-11-06T12:48:28.187107",
     "status": "completed"
    },
    "tags": []
   },
   "outputs": [
    {
     "data": {
      "image/png": "[encoded data removed]",
      "text/plain": [
       "<Figure size 1440x864 with 3 Axes>"
      ]
     },
     "metadata": {
      "needs_background": "light"
     },
     "output_type": "display_data"
    }
   ],
   "source": [
    "triple_plot(bowlers[\"Econ_Rate\"],'Distribution of Economy Rate',custom_colors[0])"
   ]
  },
  {
   "cell_type": "code",
   "execution_count": 31,
   "metadata": {
    "execution": {
     "iopub.execute_input": "2022-11-06T12:48:29.071125Z",
     "iopub.status.busy": "2022-11-06T12:48:29.070076Z",
     "iopub.status.idle": "2022-11-06T12:48:29.073273Z",
     "shell.execute_reply": "2022-11-06T12:48:29.072673Z"
    },
    "executionInfo": {
     "elapsed": 5387,
     "status": "ok",
     "timestamp": 1596356839256,
     "user": {
      "displayName": "RUCHI BHATIA",
      "photoUrl": "",
      "userId": "04469733066996764193"
     },
     "user_tz": -330
    },
    "id": "MoM9Fhrh2sKx",
    "outputId": "b3bddf09-2c65-4528-e415-00576f7c75f3",
    "papermill": {
     "duration": 0.062419,
     "end_time": "2022-11-06T12:48:29.073398",
     "exception": false,
     "start_time": "2022-11-06T12:48:29.010979",
     "status": "completed"
    },
    "tags": []
   },
   "outputs": [],
   "source": [
    "bowlers = bowlers[(bowlers[\"Econ_Rate\"] > 4) & (bowlers[\"Econ_Rate\"] < 8.5)]"
   ]
  },
  {
   "cell_type": "code",
   "execution_count": 32,
   "metadata": {
    "execution": {
     "iopub.execute_input": "2022-11-06T12:48:29.188221Z",
     "iopub.status.busy": "2022-11-06T12:48:29.183203Z",
     "iopub.status.idle": "2022-11-06T12:48:29.855817Z",
     "shell.execute_reply": "2022-11-06T12:48:29.855267Z"
    },
    "papermill": {
     "duration": 0.730372,
     "end_time": "2022-11-06T12:48:29.855943",
     "exception": false,
     "start_time": "2022-11-06T12:48:29.125571",
     "status": "completed"
    },
    "tags": []
   },
   "outputs": [
    {
     "data": {
      "image/png": "[encoded data removed]",
      "text/plain": [
       "<Figure size 1440x864 with 3 Axes>"
      ]
     },
     "metadata": {
      "needs_background": "light"
     },
     "output_type": "display_data"
    }
   ],
   "source": [
    "triple_plot(bowlers[\"Econ_Rate\"],'Distribution of Economy Rate',custom_colors[1])"
   ]
  },
  {
   "cell_type": "markdown",
   "metadata": {
    "id": "FjWlN-gN2sK0",
    "papermill": {
     "duration": 0.05758,
     "end_time": "2022-11-06T12:48:29.967966",
     "exception": false,
     "start_time": "2022-11-06T12:48:29.910386",
     "status": "completed"
    },
    "tags": []
   },
   "source": [
    "### K Means Clustering on Bowlers Data "
   ]
  },
  {
   "cell_type": "code",
   "execution_count": 33,
   "metadata": {
    "execution": {
     "iopub.execute_input": "2022-11-06T12:48:30.088879Z",
     "iopub.status.busy": "2022-11-06T12:48:30.083362Z",
     "iopub.status.idle": "2022-11-06T12:48:30.720921Z",
     "shell.execute_reply": "2022-11-06T12:48:30.720201Z"
    },
    "papermill": {
     "duration": 0.697728,
     "end_time": "2022-11-06T12:48:30.721045",
     "exception": false,
     "start_time": "2022-11-06T12:48:30.023317",
     "status": "completed"
    },
    "tags": []
   },
   "outputs": [
    {
     "name": "stdout",
     "output_type": "stream",
     "text": [
      "Distortion\n",
      "2 : 373.76756705071125\n",
      "3 : 220.55246141798668\n",
      "4 : 161.56215104490266\n",
      "5 : 128.7918915700469\n",
      "6 : 116.16827833757286\n",
      "7 : 92.56098674557764\n",
      "8 : 82.68223677986192\n",
      "9 : 68.68341536344914\n",
      "Inertia\n",
      "2 : 27964964.465512745\n",
      "3 : 13873508.040331036\n",
      "4 : 5512937.505840903\n",
      "5 : 3505558.5424463726\n",
      "6 : 2709186.9748408175\n",
      "7 : 1910696.9009444397\n",
      "8 : 1282211.190969348\n",
      "9 : 906374.8747559208\n"
     ]
    },
    {
     "data": {
      "image/png": "[encoded data removed]",
      "text/plain": [
       "<Figure size 432x288 with 1 Axes>"
      ]
     },
     "metadata": {
      "needs_background": "light"
     },
     "output_type": "display_data"
    },
    {
     "data": {
      "image/png": "[encoded data removed]",
      "text/plain": [
       "<Figure size 432x288 with 1 Axes>"
      ]
     },
     "metadata": {
      "needs_background": "light"
     },
     "output_type": "display_data"
    }
   ],
   "source": [
    "elbow_method(batsmen[[\"Strike_Rate\", \"Runs\"]])"
   ]
  },
  {
   "cell_type": "code",
   "execution_count": 34,
   "metadata": {
    "execution": {
     "iopub.execute_input": "2022-11-06T12:48:30.846996Z",
     "iopub.status.busy": "2022-11-06T12:48:30.844780Z",
     "iopub.status.idle": "2022-11-06T12:48:31.051911Z",
     "shell.execute_reply": "2022-11-06T12:48:31.052564Z"
    },
    "papermill": {
     "duration": 0.2749,
     "end_time": "2022-11-06T12:48:31.052765",
     "exception": false,
     "start_time": "2022-11-06T12:48:30.777865",
     "status": "completed"
    },
    "tags": []
   },
   "outputs": [
    {
     "name": "stdout",
     "output_type": "stream",
     "text": [
      "k=3, Silhouette score=0.6936083344492991, Calinski harabasz score=609.1041885568557\n",
      "k=4, Silhouette score=0.7153226890295874, Calinski harabasz score=1079.804486795056\n",
      "k=5, Silhouette score=0.6643845661980747, Calinski harabasz score=1282.2679424141697\n",
      "k=6, Silhouette score=0.6623567253582635, Calinski harabasz score=1324.5903817815488\n",
      "k=7, Silhouette score=0.6336067778587675, Calinski harabasz score=1561.7377647734513\n"
     ]
    }
   ],
   "source": [
    "scores(batsmen[[\"Strike_Rate\", \"Runs\"]])"
   ]
  },
  {
   "cell_type": "code",
   "execution_count": 35,
   "metadata": {
    "execution": {
     "iopub.execute_input": "2022-11-06T12:48:31.187239Z",
     "iopub.status.busy": "2022-11-06T12:48:31.185806Z",
     "iopub.status.idle": "2022-11-06T12:48:31.403303Z",
     "shell.execute_reply": "2022-11-06T12:48:31.403849Z"
    },
    "executionInfo": {
     "elapsed": 7338,
     "status": "ok",
     "timestamp": 1596356841227,
     "user": {
      "displayName": "RUCHI BHATIA",
      "photoUrl": "",
      "userId": "04469733066996764193"
     },
     "user_tz": -330
    },
    "id": "huPmUWDo2sK4",
    "outputId": "0e9b932e-f90a-4f59-d3f9-8a480c782376",
    "papermill": {
     "duration": 0.289828,
     "end_time": "2022-11-06T12:48:31.403999",
     "exception": false,
     "start_time": "2022-11-06T12:48:31.114171",
     "status": "completed"
    },
    "tags": []
   },
   "outputs": [
    {
     "data": {
      "image/png": "[encoded data removed]",
      "text/plain": [
       "<Figure size 864x432 with 1 Axes>"
      ]
     },
     "metadata": {
      "needs_background": "light"
     },
     "output_type": "display_data"
    }
   ],
   "source": [
    "kmeans = KMeans(n_clusters=4)\n",
    "kmeans.fit(bowlers[[\"Econ_Rate\", \"Over_count\"]])\n",
    "bowlers[\"cluster\"] = kmeans.labels_\n",
    "\n",
    "fig = plt.figure(figsize=(12,6))\n",
    "\n",
    "colors = custom_colors\n",
    "\n",
    "for r in range(1,5):\n",
    "    clustered_Bowlers = bowlers[bowlers[\"cluster\"] == r]\n",
    "    plt.scatter(clustered_Bowlers[\"Econ_Rate\"], clustered_Bowlers[\"Over_count\"], color=colors[r-1])\n",
    "    \n",
    "plt.title(\"IPL Bowlers\")\n",
    "plt.xlabel(\"Economy Rate of the Bowler\")\n",
    "plt.ylabel(\"Number of Overs bowled by the Bowler\")\n",
    "    \n",
    "plt.show()"
   ]
  },
  {
   "cell_type": "code",
   "execution_count": 36,
   "metadata": {
    "execution": {
     "iopub.execute_input": "2022-11-06T12:48:31.534435Z",
     "iopub.status.busy": "2022-11-06T12:48:31.533462Z",
     "iopub.status.idle": "2022-11-06T12:48:31.537686Z",
     "shell.execute_reply": "2022-11-06T12:48:31.538170Z"
    },
    "executionInfo": {
     "elapsed": 7330,
     "status": "ok",
     "timestamp": 1596356841228,
     "user": {
      "displayName": "RUCHI BHATIA",
      "photoUrl": "",
      "userId": "04469733066996764193"
     },
     "user_tz": -330
    },
    "id": "nIVGJSai2sK7",
    "outputId": "5cf3a8e7-1199-4aed-c357-ff4875e9c790",
    "papermill": {
     "duration": 0.075493,
     "end_time": "2022-11-06T12:48:31.538323",
     "exception": false,
     "start_time": "2022-11-06T12:48:31.462830",
     "status": "completed"
    },
    "tags": []
   },
   "outputs": [
    {
     "data": {
      "text/html": [
       "<div>\n",
       "<style scoped>\n",
       "    .dataframe tbody tr th:only-of-type {\n",
       "        vertical-align: middle;\n",
       "    }\n",
       "\n",
       "    .dataframe tbody tr th {\n",
       "        vertical-align: top;\n",
       "    }\n",
       "\n",
       "    .dataframe thead th {\n",
       "        text-align: right;\n",
       "    }\n",
       "</style>\n",
       "<table border=\"1\" class=\"dataframe\">\n",
       "  <thead>\n",
       "    <tr style=\"text-align: right;\">\n",
       "      <th></th>\n",
       "      <th>Player_Id</th>\n",
       "      <th>Runs</th>\n",
       "      <th>Over_count</th>\n",
       "      <th>Econ_Rate</th>\n",
       "      <th>cluster</th>\n",
       "    </tr>\n",
       "  </thead>\n",
       "  <tbody>\n",
       "    <tr>\n",
       "      <th>38</th>\n",
       "      <td>80</td>\n",
       "      <td>1736.0</td>\n",
       "      <td>227.666667</td>\n",
       "      <td>7.63</td>\n",
       "      <td>0</td>\n",
       "    </tr>\n",
       "    <tr>\n",
       "      <th>83</th>\n",
       "      <td>151</td>\n",
       "      <td>2055.0</td>\n",
       "      <td>262.333333</td>\n",
       "      <td>7.83</td>\n",
       "      <td>0</td>\n",
       "    </tr>\n",
       "    <tr>\n",
       "      <th>93</th>\n",
       "      <td>35</td>\n",
       "      <td>2166.0</td>\n",
       "      <td>288.833333</td>\n",
       "      <td>7.50</td>\n",
       "      <td>0</td>\n",
       "    </tr>\n",
       "    <tr>\n",
       "      <th>67</th>\n",
       "      <td>109</td>\n",
       "      <td>2378.0</td>\n",
       "      <td>301.000000</td>\n",
       "      <td>7.90</td>\n",
       "      <td>0</td>\n",
       "    </tr>\n",
       "    <tr>\n",
       "      <th>261</th>\n",
       "      <td>364</td>\n",
       "      <td>1674.0</td>\n",
       "      <td>214.833333</td>\n",
       "      <td>7.79</td>\n",
       "      <td>0</td>\n",
       "    </tr>\n",
       "  </tbody>\n",
       "</table>\n",
       "</div>"
      ],
      "text/plain": [
       "     Player_Id    Runs  Over_count  Econ_Rate  cluster\n",
       "38          80  1736.0  227.666667       7.63        0\n",
       "83         151  2055.0  262.333333       7.83        0\n",
       "93          35  2166.0  288.833333       7.50        0\n",
       "67         109  2378.0  301.000000       7.90        0\n",
       "261        364  1674.0  214.833333       7.79        0"
      ]
     },
     "execution_count": 36,
     "metadata": {},
     "output_type": "execute_result"
    }
   ],
   "source": [
    "bowlers = bowlers.sort_values(by = 'cluster')\n",
    "bowlers.head()"
   ]
  },
  {
   "cell_type": "code",
   "execution_count": 37,
   "metadata": {
    "execution": {
     "iopub.execute_input": "2022-11-06T12:48:31.663523Z",
     "iopub.status.busy": "2022-11-06T12:48:31.662656Z",
     "iopub.status.idle": "2022-11-06T12:48:31.665806Z",
     "shell.execute_reply": "2022-11-06T12:48:31.665138Z"
    },
    "executionInfo": {
     "elapsed": 7320,
     "status": "ok",
     "timestamp": 1596356841228,
     "user": {
      "displayName": "RUCHI BHATIA",
      "photoUrl": "",
      "userId": "04469733066996764193"
     },
     "user_tz": -330
    },
    "id": "hynpWG-WMEn_",
    "papermill": {
     "duration": 0.068145,
     "end_time": "2022-11-06T12:48:31.665927",
     "exception": false,
     "start_time": "2022-11-06T12:48:31.597782",
     "status": "completed"
    },
    "tags": []
   },
   "outputs": [],
   "source": [
    "Players_bowlers = players[[\"Player_Id\", \"Player_Name\",\"Bowling_Skill\",\"DOB\",\"Country\"]]"
   ]
  },
  {
   "cell_type": "markdown",
   "metadata": {
    "id": "TbTpmPy3cT1u",
    "papermill": {
     "duration": 0.059103,
     "end_time": "2022-11-06T12:48:31.785187",
     "exception": false,
     "start_time": "2022-11-06T12:48:31.726084",
     "status": "completed"
    },
    "tags": []
   },
   "source": [
    "Displaying the Bowling Skill of Batsmen"
   ]
  },
  {
   "cell_type": "code",
   "execution_count": 38,
   "metadata": {
    "execution": {
     "iopub.execute_input": "2022-11-06T12:48:31.913296Z",
     "iopub.status.busy": "2022-11-06T12:48:31.912577Z",
     "iopub.status.idle": "2022-11-06T12:48:31.933622Z",
     "shell.execute_reply": "2022-11-06T12:48:31.933046Z"
    },
    "executionInfo": {
     "elapsed": 7315,
     "status": "ok",
     "timestamp": 1596356841229,
     "user": {
      "displayName": "RUCHI BHATIA",
      "photoUrl": "",
      "userId": "04469733066996764193"
     },
     "user_tz": -330
    },
    "id": "_tPzb1gN2sK-",
    "outputId": "2c064edc-5b22-4f57-8fde-1c9fe35698eb",
    "papermill": {
     "duration": 0.08745,
     "end_time": "2022-11-06T12:48:31.933763",
     "exception": false,
     "start_time": "2022-11-06T12:48:31.846313",
     "status": "completed"
    },
    "tags": []
   },
   "outputs": [
    {
     "data": {
      "text/html": [
       "<div>\n",
       "<style scoped>\n",
       "    .dataframe tbody tr th:only-of-type {\n",
       "        vertical-align: middle;\n",
       "    }\n",
       "\n",
       "    .dataframe tbody tr th {\n",
       "        vertical-align: top;\n",
       "    }\n",
       "\n",
       "    .dataframe thead th {\n",
       "        text-align: right;\n",
       "    }\n",
       "</style>\n",
       "<table border=\"1\" class=\"dataframe\">\n",
       "  <thead>\n",
       "    <tr style=\"text-align: right;\">\n",
       "      <th></th>\n",
       "      <th>Player_Id</th>\n",
       "      <th>Runs</th>\n",
       "      <th>Over_count</th>\n",
       "      <th>Econ_Rate</th>\n",
       "      <th>cluster</th>\n",
       "      <th>Player_Name</th>\n",
       "      <th>Bowling_Skill</th>\n",
       "      <th>DOB</th>\n",
       "      <th>Country</th>\n",
       "    </tr>\n",
       "  </thead>\n",
       "  <tbody>\n",
       "    <tr>\n",
       "      <th>0</th>\n",
       "      <td>80</td>\n",
       "      <td>1736.0</td>\n",
       "      <td>227.666667</td>\n",
       "      <td>7.63</td>\n",
       "      <td>0</td>\n",
       "      <td>DS Kulkarni</td>\n",
       "      <td>Right-arm medium</td>\n",
       "      <td>10-Dec-88</td>\n",
       "      <td>India</td>\n",
       "    </tr>\n",
       "    <tr>\n",
       "      <th>1</th>\n",
       "      <td>151</td>\n",
       "      <td>2055.0</td>\n",
       "      <td>262.333333</td>\n",
       "      <td>7.83</td>\n",
       "      <td>0</td>\n",
       "      <td>L Balaji</td>\n",
       "      <td>Right-arm medium-fast</td>\n",
       "      <td>27-Sep-81</td>\n",
       "      <td>India</td>\n",
       "    </tr>\n",
       "    <tr>\n",
       "      <th>2</th>\n",
       "      <td>35</td>\n",
       "      <td>2166.0</td>\n",
       "      <td>288.833333</td>\n",
       "      <td>7.50</td>\n",
       "      <td>0</td>\n",
       "      <td>RA Jadeja</td>\n",
       "      <td>Slow left-arm orthodox</td>\n",
       "      <td>6-Dec-88</td>\n",
       "      <td>India</td>\n",
       "    </tr>\n",
       "    <tr>\n",
       "      <th>3</th>\n",
       "      <td>109</td>\n",
       "      <td>2378.0</td>\n",
       "      <td>301.000000</td>\n",
       "      <td>7.90</td>\n",
       "      <td>0</td>\n",
       "      <td>JA Morkel</td>\n",
       "      <td>Right-arm medium-fast</td>\n",
       "      <td>10-Jun-81</td>\n",
       "      <td>South Africa</td>\n",
       "    </tr>\n",
       "    <tr>\n",
       "      <th>4</th>\n",
       "      <td>364</td>\n",
       "      <td>1674.0</td>\n",
       "      <td>214.833333</td>\n",
       "      <td>7.79</td>\n",
       "      <td>0</td>\n",
       "      <td>MM Sharma</td>\n",
       "      <td>Right-arm medium</td>\n",
       "      <td>18-Sep-88</td>\n",
       "      <td>India</td>\n",
       "    </tr>\n",
       "    <tr>\n",
       "      <th>...</th>\n",
       "      <td>...</td>\n",
       "      <td>...</td>\n",
       "      <td>...</td>\n",
       "      <td>...</td>\n",
       "      <td>...</td>\n",
       "      <td>...</td>\n",
       "      <td>...</td>\n",
       "      <td>...</td>\n",
       "      <td>...</td>\n",
       "    </tr>\n",
       "    <tr>\n",
       "      <th>209</th>\n",
       "      <td>194</td>\n",
       "      <td>2611.0</td>\n",
       "      <td>401.166667</td>\n",
       "      <td>6.51</td>\n",
       "      <td>3</td>\n",
       "      <td>SL Malinga</td>\n",
       "      <td>Right-arm fast</td>\n",
       "      <td>28-Aug-83</td>\n",
       "      <td>Sri Lanka</td>\n",
       "    </tr>\n",
       "    <tr>\n",
       "      <th>210</th>\n",
       "      <td>201</td>\n",
       "      <td>2528.0</td>\n",
       "      <td>393.166667</td>\n",
       "      <td>6.43</td>\n",
       "      <td>3</td>\n",
       "      <td>R Ashwin</td>\n",
       "      <td>Right-arm offbreak</td>\n",
       "      <td>17-Sep-86</td>\n",
       "      <td>India</td>\n",
       "    </tr>\n",
       "    <tr>\n",
       "      <th>211</th>\n",
       "      <td>15</td>\n",
       "      <td>2511.0</td>\n",
       "      <td>338.333333</td>\n",
       "      <td>7.42</td>\n",
       "      <td>3</td>\n",
       "      <td>Z Khan</td>\n",
       "      <td>Left-arm fast-medium</td>\n",
       "      <td>7-Oct-78</td>\n",
       "      <td>India</td>\n",
       "    </tr>\n",
       "    <tr>\n",
       "      <th>212</th>\n",
       "      <td>71</td>\n",
       "      <td>2778.0</td>\n",
       "      <td>351.666667</td>\n",
       "      <td>7.90</td>\n",
       "      <td>3</td>\n",
       "      <td>DJ Bravo</td>\n",
       "      <td>Right-arm medium-fast</td>\n",
       "      <td>7-Oct-83</td>\n",
       "      <td>West Indies</td>\n",
       "    </tr>\n",
       "    <tr>\n",
       "      <th>213</th>\n",
       "      <td>14</td>\n",
       "      <td>3135.0</td>\n",
       "      <td>421.500000</td>\n",
       "      <td>7.44</td>\n",
       "      <td>3</td>\n",
       "      <td>P Kumar</td>\n",
       "      <td>Right-arm medium</td>\n",
       "      <td>2-Oct-86</td>\n",
       "      <td>India</td>\n",
       "    </tr>\n",
       "  </tbody>\n",
       "</table>\n",
       "<p>214 rows × 9 columns</p>\n",
       "</div>"
      ],
      "text/plain": [
       "     Player_Id    Runs  Over_count  Econ_Rate  cluster  Player_Name  \\\n",
       "0           80  1736.0  227.666667       7.63        0  DS Kulkarni   \n",
       "1          151  2055.0  262.333333       7.83        0     L Balaji   \n",
       "2           35  2166.0  288.833333       7.50        0    RA Jadeja   \n",
       "3          109  2378.0  301.000000       7.90        0    JA Morkel   \n",
       "4          364  1674.0  214.833333       7.79        0    MM Sharma   \n",
       "..         ...     ...         ...        ...      ...          ...   \n",
       "209        194  2611.0  401.166667       6.51        3   SL Malinga   \n",
       "210        201  2528.0  393.166667       6.43        3     R Ashwin   \n",
       "211         15  2511.0  338.333333       7.42        3       Z Khan   \n",
       "212         71  2778.0  351.666667       7.90        3     DJ Bravo   \n",
       "213         14  3135.0  421.500000       7.44        3      P Kumar   \n",
       "\n",
       "              Bowling_Skill        DOB       Country  \n",
       "0          Right-arm medium  10-Dec-88         India  \n",
       "1     Right-arm medium-fast  27-Sep-81         India  \n",
       "2    Slow left-arm orthodox   6-Dec-88         India  \n",
       "3     Right-arm medium-fast  10-Jun-81  South Africa  \n",
       "4          Right-arm medium  18-Sep-88         India  \n",
       "..                      ...        ...           ...  \n",
       "209          Right-arm fast  28-Aug-83     Sri Lanka  \n",
       "210      Right-arm offbreak  17-Sep-86         India  \n",
       "211    Left-arm fast-medium   7-Oct-78         India  \n",
       "212   Right-arm medium-fast   7-Oct-83   West Indies  \n",
       "213        Right-arm medium   2-Oct-86         India  \n",
       "\n",
       "[214 rows x 9 columns]"
      ]
     },
     "execution_count": 38,
     "metadata": {},
     "output_type": "execute_result"
    }
   ],
   "source": [
    "bowlers = bowlers[bowlers.columns].merge(Players_bowlers, \"left\")\n",
    "bowlers"
   ]
  },
  {
   "cell_type": "code",
   "execution_count": 39,
   "metadata": {
    "execution": {
     "iopub.execute_input": "2022-11-06T12:48:32.061310Z",
     "iopub.status.busy": "2022-11-06T12:48:32.060469Z",
     "iopub.status.idle": "2022-11-06T12:48:32.063552Z",
     "shell.execute_reply": "2022-11-06T12:48:32.062978Z"
    },
    "papermill": {
     "duration": 0.070619,
     "end_time": "2022-11-06T12:48:32.063676",
     "exception": false,
     "start_time": "2022-11-06T12:48:31.993057",
     "status": "completed"
    },
    "tags": []
   },
   "outputs": [],
   "source": [
    "bowlers = bowlers[bowlers['Bowling_Skill'].notna()]"
   ]
  },
  {
   "cell_type": "markdown",
   "metadata": {
    "id": "JJ3JqLw50xwv",
    "papermill": {
     "duration": 0.061449,
     "end_time": "2022-11-06T12:48:32.185294",
     "exception": false,
     "start_time": "2022-11-06T12:48:32.123845",
     "status": "completed"
    },
    "tags": []
   },
   "source": [
    "**Bowling Skill and Cluster assigned to players**"
   ]
  },
  {
   "cell_type": "code",
   "execution_count": 40,
   "metadata": {
    "execution": {
     "iopub.execute_input": "2022-11-06T12:48:32.328513Z",
     "iopub.status.busy": "2022-11-06T12:48:32.324236Z",
     "iopub.status.idle": "2022-11-06T12:48:32.643836Z",
     "shell.execute_reply": "2022-11-06T12:48:32.644325Z"
    },
    "papermill": {
     "duration": 0.398943,
     "end_time": "2022-11-06T12:48:32.644466",
     "exception": false,
     "start_time": "2022-11-06T12:48:32.245523",
     "status": "completed"
    },
    "tags": []
   },
   "outputs": [
    {
     "data": {
      "image/png": "[encoded data removed]",
      "text/plain": [
       "<Figure size 720x576 with 1 Axes>"
      ]
     },
     "metadata": {
      "needs_background": "light"
     },
     "output_type": "display_data"
    }
   ],
   "source": [
    "df_b = bowlers[['Bowling_Skill','cluster']].copy()\n",
    "ct = pd.crosstab(df_b.Bowling_Skill, df_b.cluster)\n",
    "\n",
    "ct.plot.bar(stacked=True)\n",
    "plt.legend(title='cluster',loc='upper right',bbox_to_anchor=(1.25, 1))\n",
    "plt.gcf().set_size_inches(10,8)\n",
    "plt.show()"
   ]
  },
  {
   "cell_type": "code",
   "execution_count": 41,
   "metadata": {
    "execution": {
     "iopub.execute_input": "2022-11-06T12:48:32.773731Z",
     "iopub.status.busy": "2022-11-06T12:48:32.773041Z",
     "iopub.status.idle": "2022-11-06T12:48:32.779415Z",
     "shell.execute_reply": "2022-11-06T12:48:32.778368Z"
    },
    "executionInfo": {
     "elapsed": 7303,
     "status": "ok",
     "timestamp": 1596356841230,
     "user": {
      "displayName": "RUCHI BHATIA",
      "photoUrl": "",
      "userId": "04469733066996764193"
     },
     "user_tz": -330
    },
    "id": "M-AXqJ_YBpGc",
    "papermill": {
     "duration": 0.073116,
     "end_time": "2022-11-06T12:48:32.779570",
     "exception": false,
     "start_time": "2022-11-06T12:48:32.706454",
     "status": "completed"
    },
    "tags": []
   },
   "outputs": [],
   "source": [
    "bowlers.to_csv('/kaggle/working/Bowlers.csv') "
   ]
  },
  {
   "cell_type": "code",
   "execution_count": 42,
   "metadata": {
    "execution": {
     "iopub.execute_input": "2022-11-06T12:48:32.909376Z",
     "iopub.status.busy": "2022-11-06T12:48:32.908397Z",
     "iopub.status.idle": "2022-11-06T12:48:32.938866Z",
     "shell.execute_reply": "2022-11-06T12:48:32.939350Z"
    },
    "executionInfo": {
     "elapsed": 7300,
     "status": "ok",
     "timestamp": 1596356841231,
     "user": {
      "displayName": "RUCHI BHATIA",
      "photoUrl": "",
      "userId": "04469733066996764193"
     },
     "user_tz": -330
    },
    "id": "QY404jyGc7kv",
    "outputId": "4567d330-13ab-46f2-d82a-ff55f69da703",
    "papermill": {
     "duration": 0.096742,
     "end_time": "2022-11-06T12:48:32.939515",
     "exception": false,
     "start_time": "2022-11-06T12:48:32.842773",
     "status": "completed"
    },
    "tags": []
   },
   "outputs": [
    {
     "data": {
      "text/html": [
       "<div>\n",
       "<style scoped>\n",
       "    .dataframe tbody tr th:only-of-type {\n",
       "        vertical-align: middle;\n",
       "    }\n",
       "\n",
       "    .dataframe tbody tr th {\n",
       "        vertical-align: top;\n",
       "    }\n",
       "\n",
       "    .dataframe thead th {\n",
       "        text-align: right;\n",
       "    }\n",
       "</style>\n",
       "<table border=\"1\" class=\"dataframe\">\n",
       "  <thead>\n",
       "    <tr style=\"text-align: right;\">\n",
       "      <th></th>\n",
       "      <th>Balls_played</th>\n",
       "      <th>Batting_Hand</th>\n",
       "      <th>Bowling_Skill</th>\n",
       "      <th>Country</th>\n",
       "      <th>DOB</th>\n",
       "      <th>Econ_Rate</th>\n",
       "      <th>Over_count</th>\n",
       "      <th>Player_Id</th>\n",
       "      <th>Player_Name</th>\n",
       "      <th>Runs</th>\n",
       "      <th>Strike_Rate</th>\n",
       "      <th>cluster</th>\n",
       "    </tr>\n",
       "  </thead>\n",
       "  <tbody>\n",
       "    <tr>\n",
       "      <th>0</th>\n",
       "      <td>15.0</td>\n",
       "      <td>Right_Hand</td>\n",
       "      <td>NaN</td>\n",
       "      <td>India</td>\n",
       "      <td>22-Jul-88</td>\n",
       "      <td>NaN</td>\n",
       "      <td>NaN</td>\n",
       "      <td>433</td>\n",
       "      <td>ER Dwivedi</td>\n",
       "      <td>24.0</td>\n",
       "      <td>160.00</td>\n",
       "      <td>0</td>\n",
       "    </tr>\n",
       "    <tr>\n",
       "      <th>1</th>\n",
       "      <td>143.0</td>\n",
       "      <td>Right_Hand</td>\n",
       "      <td>NaN</td>\n",
       "      <td>Australia</td>\n",
       "      <td>4-Oct-79</td>\n",
       "      <td>NaN</td>\n",
       "      <td>NaN</td>\n",
       "      <td>230</td>\n",
       "      <td>AC Voges</td>\n",
       "      <td>181.0</td>\n",
       "      <td>126.57</td>\n",
       "      <td>0</td>\n",
       "    </tr>\n",
       "    <tr>\n",
       "      <th>2</th>\n",
       "      <td>99.0</td>\n",
       "      <td>Left_Hand</td>\n",
       "      <td>NaN</td>\n",
       "      <td>India</td>\n",
       "      <td>28-Sep-83</td>\n",
       "      <td>NaN</td>\n",
       "      <td>NaN</td>\n",
       "      <td>228</td>\n",
       "      <td>Bipul Sharma</td>\n",
       "      <td>156.0</td>\n",
       "      <td>157.58</td>\n",
       "      <td>0</td>\n",
       "    </tr>\n",
       "    <tr>\n",
       "      <th>3</th>\n",
       "      <td>29.0</td>\n",
       "      <td>Left_Hand</td>\n",
       "      <td>NaN</td>\n",
       "      <td>India</td>\n",
       "      <td>16-Apr-82</td>\n",
       "      <td>NaN</td>\n",
       "      <td>NaN</td>\n",
       "      <td>226</td>\n",
       "      <td>S Narwal</td>\n",
       "      <td>37.0</td>\n",
       "      <td>127.59</td>\n",
       "      <td>0</td>\n",
       "    </tr>\n",
       "    <tr>\n",
       "      <th>4</th>\n",
       "      <td>198.0</td>\n",
       "      <td>Left_Hand</td>\n",
       "      <td>NaN</td>\n",
       "      <td>England</td>\n",
       "      <td>12-Feb-80</td>\n",
       "      <td>NaN</td>\n",
       "      <td>NaN</td>\n",
       "      <td>224</td>\n",
       "      <td>MJ Lumb</td>\n",
       "      <td>278.0</td>\n",
       "      <td>140.40</td>\n",
       "      <td>0</td>\n",
       "    </tr>\n",
       "    <tr>\n",
       "      <th>...</th>\n",
       "      <td>...</td>\n",
       "      <td>...</td>\n",
       "      <td>...</td>\n",
       "      <td>...</td>\n",
       "      <td>...</td>\n",
       "      <td>...</td>\n",
       "      <td>...</td>\n",
       "      <td>...</td>\n",
       "      <td>...</td>\n",
       "      <td>...</td>\n",
       "      <td>...</td>\n",
       "      <td>...</td>\n",
       "    </tr>\n",
       "    <tr>\n",
       "      <th>343</th>\n",
       "      <td>NaN</td>\n",
       "      <td>NaN</td>\n",
       "      <td>Right-arm fast</td>\n",
       "      <td>Sri Lanka</td>\n",
       "      <td>28-Aug-83</td>\n",
       "      <td>6.51</td>\n",
       "      <td>401.166667</td>\n",
       "      <td>194</td>\n",
       "      <td>SL Malinga</td>\n",
       "      <td>2611.0</td>\n",
       "      <td>NaN</td>\n",
       "      <td>3</td>\n",
       "    </tr>\n",
       "    <tr>\n",
       "      <th>344</th>\n",
       "      <td>NaN</td>\n",
       "      <td>NaN</td>\n",
       "      <td>Right-arm offbreak</td>\n",
       "      <td>India</td>\n",
       "      <td>17-Sep-86</td>\n",
       "      <td>6.43</td>\n",
       "      <td>393.166667</td>\n",
       "      <td>201</td>\n",
       "      <td>R Ashwin</td>\n",
       "      <td>2528.0</td>\n",
       "      <td>NaN</td>\n",
       "      <td>3</td>\n",
       "    </tr>\n",
       "    <tr>\n",
       "      <th>345</th>\n",
       "      <td>NaN</td>\n",
       "      <td>NaN</td>\n",
       "      <td>Left-arm fast-medium</td>\n",
       "      <td>India</td>\n",
       "      <td>7-Oct-78</td>\n",
       "      <td>7.42</td>\n",
       "      <td>338.333333</td>\n",
       "      <td>15</td>\n",
       "      <td>Z Khan</td>\n",
       "      <td>2511.0</td>\n",
       "      <td>NaN</td>\n",
       "      <td>3</td>\n",
       "    </tr>\n",
       "    <tr>\n",
       "      <th>346</th>\n",
       "      <td>NaN</td>\n",
       "      <td>NaN</td>\n",
       "      <td>Right-arm medium-fast</td>\n",
       "      <td>West Indies</td>\n",
       "      <td>7-Oct-83</td>\n",
       "      <td>7.90</td>\n",
       "      <td>351.666667</td>\n",
       "      <td>71</td>\n",
       "      <td>DJ Bravo</td>\n",
       "      <td>2778.0</td>\n",
       "      <td>NaN</td>\n",
       "      <td>3</td>\n",
       "    </tr>\n",
       "    <tr>\n",
       "      <th>347</th>\n",
       "      <td>NaN</td>\n",
       "      <td>NaN</td>\n",
       "      <td>Right-arm medium</td>\n",
       "      <td>India</td>\n",
       "      <td>2-Oct-86</td>\n",
       "      <td>7.44</td>\n",
       "      <td>421.500000</td>\n",
       "      <td>14</td>\n",
       "      <td>P Kumar</td>\n",
       "      <td>3135.0</td>\n",
       "      <td>NaN</td>\n",
       "      <td>3</td>\n",
       "    </tr>\n",
       "  </tbody>\n",
       "</table>\n",
       "<p>348 rows × 12 columns</p>\n",
       "</div>"
      ],
      "text/plain": [
       "     Balls_played Batting_Hand          Bowling_Skill      Country        DOB  \\\n",
       "0            15.0   Right_Hand                    NaN        India  22-Jul-88   \n",
       "1           143.0   Right_Hand                    NaN    Australia   4-Oct-79   \n",
       "2            99.0    Left_Hand                    NaN        India  28-Sep-83   \n",
       "3            29.0    Left_Hand                    NaN        India  16-Apr-82   \n",
       "4           198.0    Left_Hand                    NaN      England  12-Feb-80   \n",
       "..            ...          ...                    ...          ...        ...   \n",
       "343           NaN          NaN         Right-arm fast    Sri Lanka  28-Aug-83   \n",
       "344           NaN          NaN     Right-arm offbreak        India  17-Sep-86   \n",
       "345           NaN          NaN   Left-arm fast-medium        India   7-Oct-78   \n",
       "346           NaN          NaN  Right-arm medium-fast  West Indies   7-Oct-83   \n",
       "347           NaN          NaN       Right-arm medium        India   2-Oct-86   \n",
       "\n",
       "     Econ_Rate  Over_count  Player_Id   Player_Name    Runs  Strike_Rate  \\\n",
       "0          NaN         NaN        433    ER Dwivedi    24.0       160.00   \n",
       "1          NaN         NaN        230      AC Voges   181.0       126.57   \n",
       "2          NaN         NaN        228  Bipul Sharma   156.0       157.58   \n",
       "3          NaN         NaN        226      S Narwal    37.0       127.59   \n",
       "4          NaN         NaN        224       MJ Lumb   278.0       140.40   \n",
       "..         ...         ...        ...           ...     ...          ...   \n",
       "343       6.51  401.166667        194    SL Malinga  2611.0          NaN   \n",
       "344       6.43  393.166667        201      R Ashwin  2528.0          NaN   \n",
       "345       7.42  338.333333         15        Z Khan  2511.0          NaN   \n",
       "346       7.90  351.666667         71      DJ Bravo  2778.0          NaN   \n",
       "347       7.44  421.500000         14       P Kumar  3135.0          NaN   \n",
       "\n",
       "     cluster  \n",
       "0          0  \n",
       "1          0  \n",
       "2          0  \n",
       "3          0  \n",
       "4          0  \n",
       "..       ...  \n",
       "343        3  \n",
       "344        3  \n",
       "345        3  \n",
       "346        3  \n",
       "347        3  \n",
       "\n",
       "[348 rows x 12 columns]"
      ]
     },
     "execution_count": 42,
     "metadata": {},
     "output_type": "execute_result"
    }
   ],
   "source": [
    "final=pd.concat([batsmen,bowlers],sort=\"True\").reset_index(drop=True)\n",
    "final"
   ]
  },
  {
   "cell_type": "code",
   "execution_count": 43,
   "metadata": {
    "execution": {
     "iopub.execute_input": "2022-11-06T12:48:33.071358Z",
     "iopub.status.busy": "2022-11-06T12:48:33.070694Z",
     "iopub.status.idle": "2022-11-06T12:48:33.078083Z",
     "shell.execute_reply": "2022-11-06T12:48:33.077467Z"
    },
    "executionInfo": {
     "elapsed": 7295,
     "status": "ok",
     "timestamp": 1596356841231,
     "user": {
      "displayName": "RUCHI BHATIA",
      "photoUrl": "",
      "userId": "04469733066996764193"
     },
     "user_tz": -330
    },
    "id": "YMMw19oLB4S1",
    "papermill": {
     "duration": 0.075886,
     "end_time": "2022-11-06T12:48:33.078209",
     "exception": false,
     "start_time": "2022-11-06T12:48:33.002323",
     "status": "completed"
    },
    "tags": []
   },
   "outputs": [],
   "source": [
    "final.to_csv('/kaggle/working/final.csv')"
   ]
  },
  {
   "cell_type": "markdown",
   "metadata": {
    "id": "5guG_MpLeJV1",
    "papermill": {
     "duration": 0.064592,
     "end_time": "2022-11-06T12:48:33.207858",
     "exception": false,
     "start_time": "2022-11-06T12:48:33.143266",
     "status": "completed"
    },
    "tags": []
   },
   "source": [
    "### Example of a well-rounded Team"
   ]
  },
  {
   "cell_type": "markdown",
   "metadata": {
    "id": "S5SMv_fEeaZi",
    "papermill": {
     "duration": 0.063001,
     "end_time": "2022-11-06T12:48:33.333955",
     "exception": false,
     "start_time": "2022-11-06T12:48:33.270954",
     "status": "completed"
    },
    "tags": []
   },
   "source": [
    "Selecting top 5 batsmen"
   ]
  },
  {
   "cell_type": "code",
   "execution_count": 44,
   "metadata": {
    "execution": {
     "iopub.execute_input": "2022-11-06T12:48:33.471345Z",
     "iopub.status.busy": "2022-11-06T12:48:33.470378Z",
     "iopub.status.idle": "2022-11-06T12:48:33.476828Z",
     "shell.execute_reply": "2022-11-06T12:48:33.477307Z"
    },
    "executionInfo": {
     "elapsed": 7292,
     "status": "ok",
     "timestamp": 1596356841232,
     "user": {
      "displayName": "RUCHI BHATIA",
      "photoUrl": "",
      "userId": "04469733066996764193"
     },
     "user_tz": -330
    },
    "id": "TjodyxR1FZEf",
    "outputId": "42ff044f-971d-42b3-a712-b91debfb744b",
    "papermill": {
     "duration": 0.08043,
     "end_time": "2022-11-06T12:48:33.477468",
     "exception": false,
     "start_time": "2022-11-06T12:48:33.397038",
     "status": "completed"
    },
    "tags": []
   },
   "outputs": [
    {
     "data": {
      "text/html": [
       "<div>\n",
       "<style scoped>\n",
       "    .dataframe tbody tr th:only-of-type {\n",
       "        vertical-align: middle;\n",
       "    }\n",
       "\n",
       "    .dataframe tbody tr th {\n",
       "        vertical-align: top;\n",
       "    }\n",
       "\n",
       "    .dataframe thead th {\n",
       "        text-align: right;\n",
       "    }\n",
       "</style>\n",
       "<table border=\"1\" class=\"dataframe\">\n",
       "  <thead>\n",
       "    <tr style=\"text-align: right;\">\n",
       "      <th></th>\n",
       "      <th>Player_Name</th>\n",
       "      <th>Strike_Rate</th>\n",
       "      <th>DOB</th>\n",
       "      <th>Country</th>\n",
       "    </tr>\n",
       "  </thead>\n",
       "  <tbody>\n",
       "    <tr>\n",
       "      <th>46</th>\n",
       "      <td>CR Brathwaite</td>\n",
       "      <td>207.50</td>\n",
       "      <td>18-Jul-88</td>\n",
       "      <td>West Indies</td>\n",
       "    </tr>\n",
       "    <tr>\n",
       "      <th>66</th>\n",
       "      <td>Umar Gul</td>\n",
       "      <td>205.26</td>\n",
       "      <td>14-Apr-84</td>\n",
       "      <td>Pakistan</td>\n",
       "    </tr>\n",
       "    <tr>\n",
       "      <th>39</th>\n",
       "      <td>RS Sodhi</td>\n",
       "      <td>200.00</td>\n",
       "      <td>18-Oct-80</td>\n",
       "      <td>India</td>\n",
       "    </tr>\n",
       "    <tr>\n",
       "      <th>50</th>\n",
       "      <td>KH Pandya</td>\n",
       "      <td>186.61</td>\n",
       "      <td>24-Mar-91</td>\n",
       "      <td>India</td>\n",
       "    </tr>\n",
       "    <tr>\n",
       "      <th>78</th>\n",
       "      <td>Shahid Afridi</td>\n",
       "      <td>176.09</td>\n",
       "      <td>1-Mar-80</td>\n",
       "      <td>Pakistan</td>\n",
       "    </tr>\n",
       "  </tbody>\n",
       "</table>\n",
       "</div>"
      ],
      "text/plain": [
       "      Player_Name  Strike_Rate        DOB      Country\n",
       "46  CR Brathwaite       207.50  18-Jul-88  West Indies\n",
       "66       Umar Gul       205.26  14-Apr-84     Pakistan\n",
       "39       RS Sodhi       200.00  18-Oct-80        India\n",
       "50      KH Pandya       186.61  24-Mar-91        India\n",
       "78  Shahid Afridi       176.09   1-Mar-80     Pakistan"
      ]
     },
     "execution_count": 44,
     "metadata": {},
     "output_type": "execute_result"
    }
   ],
   "source": [
    "batsmen_team=batsmen[['Player_Name','Strike_Rate','DOB','Country']].sort_values(by=['Strike_Rate'],ascending=False)\n",
    "batsmen_team=batsmen_team.head(5)\n",
    "batsmen_team"
   ]
  },
  {
   "cell_type": "markdown",
   "metadata": {
    "id": "aA34hwuLegY-",
    "papermill": {
     "duration": 0.065742,
     "end_time": "2022-11-06T12:48:33.607355",
     "exception": false,
     "start_time": "2022-11-06T12:48:33.541613",
     "status": "completed"
    },
    "tags": []
   },
   "source": [
    "Selecting top 5 bowlers"
   ]
  },
  {
   "cell_type": "code",
   "execution_count": 45,
   "metadata": {
    "execution": {
     "iopub.execute_input": "2022-11-06T12:48:33.739696Z",
     "iopub.status.busy": "2022-11-06T12:48:33.739034Z",
     "iopub.status.idle": "2022-11-06T12:48:33.753113Z",
     "shell.execute_reply": "2022-11-06T12:48:33.753587Z"
    },
    "executionInfo": {
     "elapsed": 7285,
     "status": "ok",
     "timestamp": 1596356841232,
     "user": {
      "displayName": "RUCHI BHATIA",
      "photoUrl": "",
      "userId": "04469733066996764193"
     },
     "user_tz": -330
    },
    "id": "6I4oS1s3tPLt",
    "outputId": "070a31bd-1815-4fb8-dec8-9a452560e78d",
    "papermill": {
     "duration": 0.081324,
     "end_time": "2022-11-06T12:48:33.753782",
     "exception": false,
     "start_time": "2022-11-06T12:48:33.672458",
     "status": "completed"
    },
    "tags": []
   },
   "outputs": [
    {
     "data": {
      "text/html": [
       "<div>\n",
       "<style scoped>\n",
       "    .dataframe tbody tr th:only-of-type {\n",
       "        vertical-align: middle;\n",
       "    }\n",
       "\n",
       "    .dataframe tbody tr th {\n",
       "        vertical-align: top;\n",
       "    }\n",
       "\n",
       "    .dataframe thead th {\n",
       "        text-align: right;\n",
       "    }\n",
       "</style>\n",
       "<table border=\"1\" class=\"dataframe\">\n",
       "  <thead>\n",
       "    <tr style=\"text-align: right;\">\n",
       "      <th></th>\n",
       "      <th>Player_Name</th>\n",
       "      <th>Econ_Rate</th>\n",
       "      <th>DOB</th>\n",
       "      <th>Country</th>\n",
       "    </tr>\n",
       "  </thead>\n",
       "  <tbody>\n",
       "    <tr>\n",
       "      <th>75</th>\n",
       "      <td>Sachin Baby</td>\n",
       "      <td>4.80</td>\n",
       "      <td>18-Dec-88</td>\n",
       "      <td>India</td>\n",
       "    </tr>\n",
       "    <tr>\n",
       "      <th>98</th>\n",
       "      <td>AM Rahane</td>\n",
       "      <td>5.00</td>\n",
       "      <td>6-Jun-88</td>\n",
       "      <td>India</td>\n",
       "    </tr>\n",
       "    <tr>\n",
       "      <th>32</th>\n",
       "      <td>SS Mundhe</td>\n",
       "      <td>5.14</td>\n",
       "      <td>27-Oct-88</td>\n",
       "      <td>India</td>\n",
       "    </tr>\n",
       "    <tr>\n",
       "      <th>134</th>\n",
       "      <td>LA Carseldine</td>\n",
       "      <td>5.14</td>\n",
       "      <td>17-Nov-75</td>\n",
       "      <td>Australia</td>\n",
       "    </tr>\n",
       "    <tr>\n",
       "      <th>122</th>\n",
       "      <td>DJ Thornely</td>\n",
       "      <td>5.45</td>\n",
       "      <td>1-Oct-78</td>\n",
       "      <td>Australia</td>\n",
       "    </tr>\n",
       "  </tbody>\n",
       "</table>\n",
       "</div>"
      ],
      "text/plain": [
       "       Player_Name  Econ_Rate        DOB    Country\n",
       "75     Sachin Baby       4.80  18-Dec-88      India\n",
       "98       AM Rahane       5.00   6-Jun-88      India\n",
       "32       SS Mundhe       5.14  27-Oct-88      India\n",
       "134  LA Carseldine       5.14  17-Nov-75  Australia\n",
       "122    DJ Thornely       5.45   1-Oct-78  Australia"
      ]
     },
     "execution_count": 45,
     "metadata": {},
     "output_type": "execute_result"
    }
   ],
   "source": [
    "bowlers_team=bowlers[['Player_Name','Econ_Rate','DOB','Country']].sort_values(by=['Econ_Rate'])\n",
    "bowlers_team=bowlers_team.head(5)\n",
    "bowlers_team"
   ]
  },
  {
   "cell_type": "markdown",
   "metadata": {
    "id": "SjvWXN0vei_V",
    "papermill": {
     "duration": 0.06557,
     "end_time": "2022-11-06T12:48:33.885430",
     "exception": false,
     "start_time": "2022-11-06T12:48:33.819860",
     "status": "completed"
    },
    "tags": []
   },
   "source": [
    "Selecting top 10 all rounders"
   ]
  },
  {
   "cell_type": "code",
   "execution_count": 46,
   "metadata": {
    "execution": {
     "iopub.execute_input": "2022-11-06T12:48:34.021112Z",
     "iopub.status.busy": "2022-11-06T12:48:34.020365Z",
     "iopub.status.idle": "2022-11-06T12:48:34.047393Z",
     "shell.execute_reply": "2022-11-06T12:48:34.046702Z"
    },
    "executionInfo": {
     "elapsed": 7280,
     "status": "ok",
     "timestamp": 1596356841233,
     "user": {
      "displayName": "RUCHI BHATIA",
      "photoUrl": "",
      "userId": "04469733066996764193"
     },
     "user_tz": -330
    },
    "id": "YHjo6sq_uvsX",
    "outputId": "f8643258-c5c0-4695-8f37-b75690cff950",
    "papermill": {
     "duration": 0.096442,
     "end_time": "2022-11-06T12:48:34.047511",
     "exception": false,
     "start_time": "2022-11-06T12:48:33.951069",
     "status": "completed"
    },
    "tags": []
   },
   "outputs": [
    {
     "name": "stderr",
     "output_type": "stream",
     "text": [
      "/opt/conda/lib/python3.7/site-packages/pandas/core/frame.py:4301: SettingWithCopyWarning:\n",
      "\n",
      "\n",
      "A value is trying to be set on a copy of a slice from a DataFrame\n",
      "\n",
      "See the caveats in the documentation: https://pandas.pydata.org/pandas-docs/stable/user_guide/indexing.html#returning-a-view-versus-a-copy\n",
      "\n"
     ]
    },
    {
     "data": {
      "text/html": [
       "<div>\n",
       "<style scoped>\n",
       "    .dataframe tbody tr th:only-of-type {\n",
       "        vertical-align: middle;\n",
       "    }\n",
       "\n",
       "    .dataframe tbody tr th {\n",
       "        vertical-align: top;\n",
       "    }\n",
       "\n",
       "    .dataframe thead th {\n",
       "        text-align: right;\n",
       "    }\n",
       "</style>\n",
       "<table border=\"1\" class=\"dataframe\">\n",
       "  <thead>\n",
       "    <tr style=\"text-align: right;\">\n",
       "      <th></th>\n",
       "      <th>Player_Name</th>\n",
       "      <th>Strike_Rate</th>\n",
       "      <th>Econ_Rate</th>\n",
       "      <th>DOB</th>\n",
       "      <th>Country</th>\n",
       "    </tr>\n",
       "  </thead>\n",
       "  <tbody>\n",
       "    <tr>\n",
       "      <th>0</th>\n",
       "      <td>AC Voges</td>\n",
       "      <td>126.57</td>\n",
       "      <td>8.14</td>\n",
       "      <td>4-Oct-79</td>\n",
       "      <td>Australia</td>\n",
       "    </tr>\n",
       "    <tr>\n",
       "      <th>1</th>\n",
       "      <td>Bipul Sharma</td>\n",
       "      <td>157.58</td>\n",
       "      <td>7.88</td>\n",
       "      <td>28-Sep-83</td>\n",
       "      <td>India</td>\n",
       "    </tr>\n",
       "    <tr>\n",
       "      <th>2</th>\n",
       "      <td>Gurkeerat Singh</td>\n",
       "      <td>122.14</td>\n",
       "      <td>7.10</td>\n",
       "      <td>29-Jun-90</td>\n",
       "      <td>India</td>\n",
       "    </tr>\n",
       "    <tr>\n",
       "      <th>3</th>\n",
       "      <td>M Morkel</td>\n",
       "      <td>135.48</td>\n",
       "      <td>7.43</td>\n",
       "      <td>6-Oct-84</td>\n",
       "      <td>South Africa</td>\n",
       "    </tr>\n",
       "    <tr>\n",
       "      <th>4</th>\n",
       "      <td>Sachin Baby</td>\n",
       "      <td>137.08</td>\n",
       "      <td>4.80</td>\n",
       "      <td>18-Dec-88</td>\n",
       "      <td>India</td>\n",
       "    </tr>\n",
       "    <tr>\n",
       "      <th>5</th>\n",
       "      <td>TG Southee</td>\n",
       "      <td>142.42</td>\n",
       "      <td>8.00</td>\n",
       "      <td>11-Dec-88</td>\n",
       "      <td>New Zealand</td>\n",
       "    </tr>\n",
       "    <tr>\n",
       "      <th>6</th>\n",
       "      <td>CRD Fernando</td>\n",
       "      <td>133.33</td>\n",
       "      <td>7.37</td>\n",
       "      <td>19-Jul-79</td>\n",
       "      <td>Sri Lanka</td>\n",
       "    </tr>\n",
       "    <tr>\n",
       "      <th>7</th>\n",
       "      <td>CH Morris</td>\n",
       "      <td>160.11</td>\n",
       "      <td>7.46</td>\n",
       "      <td>30-Apr-87</td>\n",
       "      <td>South Africa</td>\n",
       "    </tr>\n",
       "    <tr>\n",
       "      <th>8</th>\n",
       "      <td>KMDN Kulasekara</td>\n",
       "      <td>166.67</td>\n",
       "      <td>6.50</td>\n",
       "      <td>22-Jul-82</td>\n",
       "      <td>Sri Lanka</td>\n",
       "    </tr>\n",
       "    <tr>\n",
       "      <th>9</th>\n",
       "      <td>PD Collingwood</td>\n",
       "      <td>127.67</td>\n",
       "      <td>6.73</td>\n",
       "      <td>26-May-76</td>\n",
       "      <td>England</td>\n",
       "    </tr>\n",
       "  </tbody>\n",
       "</table>\n",
       "</div>"
      ],
      "text/plain": [
       "       Player_Name  Strike_Rate  Econ_Rate        DOB       Country\n",
       "0         AC Voges       126.57       8.14   4-Oct-79     Australia\n",
       "1     Bipul Sharma       157.58       7.88  28-Sep-83         India\n",
       "2  Gurkeerat Singh       122.14       7.10  29-Jun-90         India\n",
       "3         M Morkel       135.48       7.43   6-Oct-84  South Africa\n",
       "4      Sachin Baby       137.08       4.80  18-Dec-88         India\n",
       "5       TG Southee       142.42       8.00  11-Dec-88   New Zealand\n",
       "6     CRD Fernando       133.33       7.37  19-Jul-79     Sri Lanka\n",
       "7        CH Morris       160.11       7.46  30-Apr-87  South Africa\n",
       "8  KMDN Kulasekara       166.67       6.50  22-Jul-82     Sri Lanka\n",
       "9   PD Collingwood       127.67       6.73  26-May-76       England"
      ]
     },
     "execution_count": 46,
     "metadata": {},
     "output_type": "execute_result"
    }
   ],
   "source": [
    "d1 = pd.merge(batsmen,bowlers, how='inner', on=['Player_Id'])\n",
    "d2 = pd.merge(d1,players, on='Player_Id')\n",
    "all_rounder_team=d2[['Player_Name_x','Strike_Rate','Econ_Rate','DOB','Country']]\n",
    "all_rounder_team.rename(columns = {'Player_Name_x':'Player_Name'}, inplace = True) \n",
    "all_rounder_team=all_rounder_team.head(10)\n",
    "all_rounder_team"
   ]
  },
  {
   "cell_type": "code",
   "execution_count": 47,
   "metadata": {
    "execution": {
     "iopub.execute_input": "2022-11-06T12:48:34.192018Z",
     "iopub.status.busy": "2022-11-06T12:48:34.190613Z",
     "iopub.status.idle": "2022-11-06T12:48:34.213862Z",
     "shell.execute_reply": "2022-11-06T12:48:34.214689Z"
    },
    "executionInfo": {
     "elapsed": 7273,
     "status": "ok",
     "timestamp": 1596356841233,
     "user": {
      "displayName": "RUCHI BHATIA",
      "photoUrl": "",
      "userId": "04469733066996764193"
     },
     "user_tz": -330
    },
    "id": "4zzGT4z4EsvP",
    "outputId": "48daa1a8-dc73-4c68-efdb-ee27f110597e",
    "papermill": {
     "duration": 0.101915,
     "end_time": "2022-11-06T12:48:34.214921",
     "exception": false,
     "start_time": "2022-11-06T12:48:34.113006",
     "status": "completed"
    },
    "tags": []
   },
   "outputs": [
    {
     "name": "stdout",
     "output_type": "stream",
     "text": [
      "------------------------------ Well rounded team ------------------------------ \n",
      "\n"
     ]
    },
    {
     "data": {
      "text/html": [
       "<div>\n",
       "<style scoped>\n",
       "    .dataframe tbody tr th:only-of-type {\n",
       "        vertical-align: middle;\n",
       "    }\n",
       "\n",
       "    .dataframe tbody tr th {\n",
       "        vertical-align: top;\n",
       "    }\n",
       "\n",
       "    .dataframe thead th {\n",
       "        text-align: right;\n",
       "    }\n",
       "</style>\n",
       "<table border=\"1\" class=\"dataframe\">\n",
       "  <thead>\n",
       "    <tr style=\"text-align: right;\">\n",
       "      <th></th>\n",
       "      <th>Player_Name</th>\n",
       "      <th>Strike_Rate</th>\n",
       "      <th>Econ_Rate</th>\n",
       "      <th>DOB</th>\n",
       "      <th>Country</th>\n",
       "    </tr>\n",
       "  </thead>\n",
       "  <tbody>\n",
       "    <tr>\n",
       "      <th>0</th>\n",
       "      <td>CR Brathwaite</td>\n",
       "      <td>207.50</td>\n",
       "      <td>NaN</td>\n",
       "      <td>18-Jul-88</td>\n",
       "      <td>West Indies</td>\n",
       "    </tr>\n",
       "    <tr>\n",
       "      <th>1</th>\n",
       "      <td>Umar Gul</td>\n",
       "      <td>205.26</td>\n",
       "      <td>NaN</td>\n",
       "      <td>14-Apr-84</td>\n",
       "      <td>Pakistan</td>\n",
       "    </tr>\n",
       "    <tr>\n",
       "      <th>2</th>\n",
       "      <td>RS Sodhi</td>\n",
       "      <td>200.00</td>\n",
       "      <td>NaN</td>\n",
       "      <td>18-Oct-80</td>\n",
       "      <td>India</td>\n",
       "    </tr>\n",
       "    <tr>\n",
       "      <th>3</th>\n",
       "      <td>KH Pandya</td>\n",
       "      <td>186.61</td>\n",
       "      <td>NaN</td>\n",
       "      <td>24-Mar-91</td>\n",
       "      <td>India</td>\n",
       "    </tr>\n",
       "    <tr>\n",
       "      <th>4</th>\n",
       "      <td>Shahid Afridi</td>\n",
       "      <td>176.09</td>\n",
       "      <td>NaN</td>\n",
       "      <td>1-Mar-80</td>\n",
       "      <td>Pakistan</td>\n",
       "    </tr>\n",
       "    <tr>\n",
       "      <th>5</th>\n",
       "      <td>Sachin Baby</td>\n",
       "      <td>NaN</td>\n",
       "      <td>4.80</td>\n",
       "      <td>18-Dec-88</td>\n",
       "      <td>India</td>\n",
       "    </tr>\n",
       "    <tr>\n",
       "      <th>6</th>\n",
       "      <td>AM Rahane</td>\n",
       "      <td>NaN</td>\n",
       "      <td>5.00</td>\n",
       "      <td>6-Jun-88</td>\n",
       "      <td>India</td>\n",
       "    </tr>\n",
       "    <tr>\n",
       "      <th>7</th>\n",
       "      <td>SS Mundhe</td>\n",
       "      <td>NaN</td>\n",
       "      <td>5.14</td>\n",
       "      <td>27-Oct-88</td>\n",
       "      <td>India</td>\n",
       "    </tr>\n",
       "    <tr>\n",
       "      <th>8</th>\n",
       "      <td>LA Carseldine</td>\n",
       "      <td>NaN</td>\n",
       "      <td>5.14</td>\n",
       "      <td>17-Nov-75</td>\n",
       "      <td>Australia</td>\n",
       "    </tr>\n",
       "    <tr>\n",
       "      <th>9</th>\n",
       "      <td>DJ Thornely</td>\n",
       "      <td>NaN</td>\n",
       "      <td>5.45</td>\n",
       "      <td>1-Oct-78</td>\n",
       "      <td>Australia</td>\n",
       "    </tr>\n",
       "    <tr>\n",
       "      <th>10</th>\n",
       "      <td>AC Voges</td>\n",
       "      <td>126.57</td>\n",
       "      <td>8.14</td>\n",
       "      <td>4-Oct-79</td>\n",
       "      <td>Australia</td>\n",
       "    </tr>\n",
       "    <tr>\n",
       "      <th>11</th>\n",
       "      <td>Bipul Sharma</td>\n",
       "      <td>157.58</td>\n",
       "      <td>7.88</td>\n",
       "      <td>28-Sep-83</td>\n",
       "      <td>India</td>\n",
       "    </tr>\n",
       "    <tr>\n",
       "      <th>12</th>\n",
       "      <td>Gurkeerat Singh</td>\n",
       "      <td>122.14</td>\n",
       "      <td>7.10</td>\n",
       "      <td>29-Jun-90</td>\n",
       "      <td>India</td>\n",
       "    </tr>\n",
       "    <tr>\n",
       "      <th>13</th>\n",
       "      <td>M Morkel</td>\n",
       "      <td>135.48</td>\n",
       "      <td>7.43</td>\n",
       "      <td>6-Oct-84</td>\n",
       "      <td>South Africa</td>\n",
       "    </tr>\n",
       "    <tr>\n",
       "      <th>14</th>\n",
       "      <td>TG Southee</td>\n",
       "      <td>142.42</td>\n",
       "      <td>8.00</td>\n",
       "      <td>11-Dec-88</td>\n",
       "      <td>New Zealand</td>\n",
       "    </tr>\n",
       "    <tr>\n",
       "      <th>15</th>\n",
       "      <td>CRD Fernando</td>\n",
       "      <td>133.33</td>\n",
       "      <td>7.37</td>\n",
       "      <td>19-Jul-79</td>\n",
       "      <td>Sri Lanka</td>\n",
       "    </tr>\n",
       "    <tr>\n",
       "      <th>16</th>\n",
       "      <td>CH Morris</td>\n",
       "      <td>160.11</td>\n",
       "      <td>7.46</td>\n",
       "      <td>30-Apr-87</td>\n",
       "      <td>South Africa</td>\n",
       "    </tr>\n",
       "    <tr>\n",
       "      <th>17</th>\n",
       "      <td>KMDN Kulasekara</td>\n",
       "      <td>166.67</td>\n",
       "      <td>6.50</td>\n",
       "      <td>22-Jul-82</td>\n",
       "      <td>Sri Lanka</td>\n",
       "    </tr>\n",
       "    <tr>\n",
       "      <th>18</th>\n",
       "      <td>PD Collingwood</td>\n",
       "      <td>127.67</td>\n",
       "      <td>6.73</td>\n",
       "      <td>26-May-76</td>\n",
       "      <td>England</td>\n",
       "    </tr>\n",
       "  </tbody>\n",
       "</table>\n",
       "</div>"
      ],
      "text/plain": [
       "        Player_Name  Strike_Rate  Econ_Rate        DOB       Country\n",
       "0     CR Brathwaite       207.50        NaN  18-Jul-88   West Indies\n",
       "1          Umar Gul       205.26        NaN  14-Apr-84      Pakistan\n",
       "2          RS Sodhi       200.00        NaN  18-Oct-80         India\n",
       "3         KH Pandya       186.61        NaN  24-Mar-91         India\n",
       "4     Shahid Afridi       176.09        NaN   1-Mar-80      Pakistan\n",
       "5       Sachin Baby          NaN       4.80  18-Dec-88         India\n",
       "6         AM Rahane          NaN       5.00   6-Jun-88         India\n",
       "7         SS Mundhe          NaN       5.14  27-Oct-88         India\n",
       "8     LA Carseldine          NaN       5.14  17-Nov-75     Australia\n",
       "9       DJ Thornely          NaN       5.45   1-Oct-78     Australia\n",
       "10         AC Voges       126.57       8.14   4-Oct-79     Australia\n",
       "11     Bipul Sharma       157.58       7.88  28-Sep-83         India\n",
       "12  Gurkeerat Singh       122.14       7.10  29-Jun-90         India\n",
       "13         M Morkel       135.48       7.43   6-Oct-84  South Africa\n",
       "14       TG Southee       142.42       8.00  11-Dec-88   New Zealand\n",
       "15     CRD Fernando       133.33       7.37  19-Jul-79     Sri Lanka\n",
       "16        CH Morris       160.11       7.46  30-Apr-87  South Africa\n",
       "17  KMDN Kulasekara       166.67       6.50  22-Jul-82     Sri Lanka\n",
       "18   PD Collingwood       127.67       6.73  26-May-76       England"
      ]
     },
     "execution_count": 47,
     "metadata": {},
     "output_type": "execute_result"
    }
   ],
   "source": [
    "df=pd.concat([batsmen_team,bowlers_team,all_rounder_team],sort=True).drop_duplicates(subset='Player_Name', keep=\"first\").reset_index(drop=True)\n",
    "df=df[['Player_Name','Strike_Rate','Econ_Rate','DOB','Country']]\n",
    "print(\"-\"*30,\"Well rounded team\",\"-\"*30,\"\\n\")\n",
    "df"
   ]
  },
  {
   "cell_type": "markdown",
   "metadata": {
    "id": "XbtfVpAl0gC9",
    "papermill": {
     "duration": 0.071913,
     "end_time": "2022-11-06T12:48:34.370571",
     "exception": false,
     "start_time": "2022-11-06T12:48:34.298658",
     "status": "completed"
    },
    "tags": []
   },
   "source": [
    "The players with:\n",
    "\n",
    "Strike_Rate: NaN are **batsmen**\n",
    "\n",
    "Economy_Rate: NaN are **bowlers**\n",
    "\n",
    "both Strike_Rate and Economy_Rate listed are **all rounders**."
   ]
  }
 ],
 "metadata": {
  "kernelspec": {
   "display_name": "Python 3",
   "language": "python",
   "name": "python3"
  },
  "language_info": {
   "codemirror_mode": {
    "name": "ipython",
    "version": 3
   },
   "file_extension": ".py",
   "mimetype": "text/x-python",
   "name": "python",
   "nbconvert_exporter": "python",
   "pygments_lexer": "ipython3",
   "version": "3.7.6"
  },
  "papermill": {
   "duration": 21.605301,
   "end_time": "2022-11-06T12:48:34.545275",
   "environment_variables": {},
   "exception": null,
   "input_path": "__notebook__.ipynb",
   "output_path": "__notebook__.ipynb",
   "parameters": {},
   "start_time": "2022-11-06T12:48:12.939974",
   "version": "2.1.0"
  }
 },
 "nbformat": 4,
 "nbformat_minor": 4
}
